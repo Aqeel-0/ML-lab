{
  "cells": [
    {
      "cell_type": "code",
      "execution_count": null,
      "metadata": {
        "id": "y5XyFFstIc7y"
      },
      "outputs": [],
      "source": [
        "import numpy as np\n",
        "import pandas as pd\n",
        "import matplotlib.pyplot as plt"
      ]
    },
    {
      "cell_type": "code",
      "execution_count": null,
      "metadata": {
        "id": "2vmzqZASIf0z"
      },
      "outputs": [],
      "source": [
        "from sklearn.datasets import load_iris\n",
        "iris = load_iris()\n",
        "df = pd.DataFrame(iris.data, columns = iris.feature_names)\n",
        "df.head()"
      ]
    },
    {
      "cell_type": "code",
      "execution_count": null,
      "metadata": {
        "id": "9jIfW5EIIgnH"
      },
      "outputs": [],
      "source": [
        "X = df.iloc[:][:]\n",
        "y = iris[\"target\"]\n",
        "print(X, y)"
      ]
    },
    {
      "cell_type": "code",
      "execution_count": null,
      "metadata": {
        "id": "7s8KIWMMIjCX"
      },
      "outputs": [],
      "source": [
        "def reports(y_test, y_pred):\n",
        "  from sklearn.metrics import classification_report, confusion_matrix\n",
        "  from sklearn.metrics import accuracy_score\n",
        "  print(\"Confusion Matrix : \")\n",
        "  print(confusion_matrix(y_test, y_pred))\n",
        "  print(\"**********************************************\")\n",
        "  print(\"Classification Evaluation : \")\n",
        "  print(classification_report(y_test, y_pred, zero_division = 0))"
      ]
    },
    {
      "cell_type": "code",
      "execution_count": null,
      "metadata": {
        "id": "fg9bE6mENX2B"
      },
      "outputs": [],
      "source": []
    },
    {
      "cell_type": "markdown",
      "metadata": {
        "id": "LWjl9nmHNicq"
      },
      "source": [
        "### Classification using BernoulliNB Naive Bayes"
      ]
    },
    {
      "cell_type": "code",
      "execution_count": null,
      "metadata": {
        "id": "VBYcZx4-Ilb-"
      },
      "outputs": [],
      "source": [
        "def FBouBernoulli(split, alpha_value = 1.0, binarize_value = 0.0, fit_prior_value = False):\n",
        "  from sklearn.naive_bayes import BernoulliNB\n",
        "  from sklearn.model_selection import train_test_split\n",
        "  X_train, X_test, y_train, y_test = train_test_split(X,y,test_size = split, random_state=44)\n",
        "  classifier = BernoulliNB(alpha = alpha_value, binarize = binarize_value, fit_prior = fit_prior_value)\n",
        "  classifier.fit(X_train, y_train)\n",
        "  y_pred = classifier.predict(X_test)\n",
        "  print(\"Train-test split: \" + str(split))\n",
        "  print(\"value: alpha: \"+str(alpha_value) + \" binarize: \" + str(binarize_value) + \" fit_prior: \" +str(fit_prior_value))\n",
        "  print(\"**********************************************\")\n",
        "\n",
        "  reports(y_test, y_pred)\n",
        "\n",
        "FBouBernoulli(0.2)\n",
        "FBouBernoulli(0.2, 2.0)\n",
        "FBouBernoulli(0.2, 1.0, 1.0)\n",
        "FBouBernoulli(0.2, 1.0, 1.75)\n",
        "FBouBernoulli(0.2, 1.0, 1.75, True)\n",
        "\n",
        "\n"
      ]
    },
    {
      "cell_type": "code",
      "execution_count": null,
      "metadata": {
        "id": "l02hvRH60lF4"
      },
      "outputs": [],
      "source": [
        "## Train-Test split 0.3\n",
        "FBouBernoulli(0.3)\n",
        "FBouBernoulli(0.3, 1.0)\n",
        "FBouBernoulli(0.3, 1.0, 1.8)\n",
        "FBouBernoulli(0.3, 1.0, 1.8, True)"
      ]
    },
    {
      "cell_type": "code",
      "execution_count": null,
      "metadata": {
        "id": "hp5TAjKu0nlb"
      },
      "outputs": [],
      "source": [
        "## Train-Test split 0.4\n",
        "FBouBernoulli(0.4)\n",
        "FBouBernoulli(0.4, 1.0)\n",
        "FBouBernoulli(0.4, 1.0, 1.7)\n",
        "FBouBernoulli(0.4, 1.0, 1.7, True)"
      ]
    },
    {
      "cell_type": "code",
      "execution_count": null,
      "metadata": {
        "id": "4OF73gPQ0qP0"
      },
      "outputs": [],
      "source": [
        "\n",
        "## Train-Test split 0.5\n",
        "FBouBernoulli(0.5)\n",
        "FBouBernoulli(0.5, 1.0)\n",
        "FBouBernoulli(0.5, 1.0, 1.75)\n",
        "FBouBernoulli(0.5, 1.0, 1.75, True)"
      ]
    },
    {
      "cell_type": "code",
      "execution_count": null,
      "metadata": {
        "id": "9faeYqi_0teK"
      },
      "outputs": [],
      "source": [
        "\n",
        "x_points = np.array([0.2, 0.3, 0.4, 0.5])\n",
        "y_points = np.array([97, 87, 95, 95])\n",
        "plt.plot(x_points, y_points)\n",
        "plt.grid(True)\n",
        "plt.show()"
      ]
    },
    {
      "cell_type": "markdown",
      "metadata": {
        "id": "oUe-lvS9PIw0"
      },
      "source": [
        "## Classification using Multinomial Naive Bayes"
      ]
    },
    {
      "cell_type": "code",
      "execution_count": null,
      "metadata": {
        "id": "MipQjtFvNs3P"
      },
      "outputs": [],
      "source": [
        "def FMultinomial(split, alpha_value = 1.0):\n",
        "  from sklearn.naive_bayes import MultinomialNB\n",
        "  from sklearn.model_selection import train_test_split\n",
        "  X_train, X_test, y_train, y_test = train_test_split(X,y,test_size = split, random_state=44)\n",
        "  classifier = MultinomialNB(alpha = alpha_value)\n",
        "  classifier.fit(X_train, y_train)\n",
        "  y_pred = classifier.predict(X_test)\n",
        "  print(\"Train-test split: \" + str(split))\n",
        "  print(\"value: alpha: \"+str(alpha_value))\n",
        "  print(\"**********************************************\")\n",
        "  reports(y_test, y_pred)\n",
        "\n",
        "## Train-Test split 0.2\n",
        "FMultinomial(0.2)\n",
        "FMultinomial(0.2, 1.9)\n",
        "\n"
      ]
    },
    {
      "cell_type": "code",
      "execution_count": null,
      "metadata": {
        "id": "ruUEuUjK03xd"
      },
      "outputs": [],
      "source": [
        "## Train-Test split 0.3\n",
        "FMultinomial(0.3)\n",
        "FMultinomial(0.3, 1.6)"
      ]
    },
    {
      "cell_type": "code",
      "execution_count": null,
      "metadata": {
        "id": "-QfJdyqs05eI"
      },
      "outputs": [],
      "source": [
        "## Train-Test split 0.4\n",
        "FMultinomial(0.4)\n",
        "FMultinomial(0.4, 1.4)"
      ]
    },
    {
      "cell_type": "code",
      "execution_count": null,
      "metadata": {
        "id": "F4Gff36T07Gd"
      },
      "outputs": [],
      "source": [
        "## Train-Test split 0.5\n",
        "FMultinomial(0.5)\n",
        "FMultinomial(0.5, 1.5)\n"
      ]
    },
    {
      "cell_type": "code",
      "execution_count": null,
      "metadata": {
        "id": "AU3tzxJQ09VU"
      },
      "outputs": [],
      "source": [
        "x_points = np.array([0.2, 0.3, 0.4, 0.5])\n",
        "y_points = np.array([96, 98, 97, 83])\n",
        "plt.plot(x_points, y_points)\n",
        "plt.grid(True)\n",
        "plt.show()"
      ]
    },
    {
      "cell_type": "markdown",
      "metadata": {
        "id": "HEqf5hfKPFB0"
      },
      "source": [
        "### **Classification using Guassian Naive Bayes**"
      ]
    },
    {
      "cell_type": "code",
      "execution_count": null,
      "metadata": {
        "id": "6IMqPGyaPDE0"
      },
      "outputs": [],
      "source": [
        "def FGaussian(split):\n",
        "  from sklearn.naive_bayes import GaussianNB\n",
        "  from sklearn.model_selection import train_test_split\n",
        "  X_train, X_test, y_train, y_test = train_test_split(X,y,test_size = split, random_state=44)\n",
        "  classifier = GaussianNB()\n",
        "  classifier.fit(X_train, y_train)\n",
        "  y_pred = classifier.predict(X_test)\n",
        "  print(\"Train-test split: \" + str(split))\n",
        "  print(\"**********************************************\")\n",
        "  reports(y_test, y_pred)\n",
        "\n",
        "## Train-Test split 0.2\n",
        "FGaussian(0.2)\n",
        "\n",
        "\n",
        "\n",
        "\n",
        "\n",
        "\n",
        "\n",
        "\n",
        "\n",
        "\n",
        "\n"
      ]
    },
    {
      "cell_type": "code",
      "execution_count": null,
      "metadata": {
        "id": "4MN7iiUH1CV7"
      },
      "outputs": [],
      "source": [
        "## Train-Test split 0.3\n",
        "FGaussian(0.3)"
      ]
    },
    {
      "cell_type": "code",
      "execution_count": null,
      "metadata": {
        "id": "TYTDGNVY1D-W"
      },
      "outputs": [],
      "source": [
        "## Train-Test split 0.4\n",
        "FGaussian(0.4)"
      ]
    },
    {
      "cell_type": "code",
      "execution_count": null,
      "metadata": {
        "id": "v-ZieEwd1FJ5"
      },
      "outputs": [],
      "source": [
        "## Train-Test split 0.5\n",
        "FGaussian(0.5)"
      ]
    },
    {
      "cell_type": "code",
      "execution_count": null,
      "metadata": {
        "id": "RlMgl7eW1HLF"
      },
      "outputs": [],
      "source": [
        "x_points = np.array([0.2, 0.3, 0.4, 0.5])\n",
        "y_points = np.array([93, 98, 98, 96])\n",
        "plt.plot(x_points, y_points)\n",
        "plt.grid(True)\n",
        "plt.show()"
      ]
    },
    {
      "cell_type": "markdown",
      "metadata": {
        "id": "KPJYgXuOQROx"
      },
      "source": [
        "### **Classification using Decision Tree**"
      ]
    },
    {
      "cell_type": "code",
      "execution_count": null,
      "metadata": {
        "id": "pH0S69KOQfcs"
      },
      "outputs": [],
      "source": [
        "def decision_tree(split, criterion_value):\n",
        "  from sklearn.model_selection import train_test_split\n",
        "  from sklearn.tree import DecisionTreeClassifier\n",
        "  from sklearn import tree\n",
        "  X_train, X_test, y_train, y_test = train_test_split(X,y,test_size = split, random_state=44)\n",
        "\n",
        "  classifier = DecisionTreeClassifier(criterion = criterion_value)\n",
        "  classifier.fit(X_train, y_train)\n",
        "  y_pred = classifier.predict(X_test)\n",
        "  print(\"Train-test split: \" + str(split))\n",
        "  print(\"Value: Entropy: \" + criterion_value)\n",
        "  print(\"**********************************************\")\n",
        "  reports(y_test, y_pred)\n",
        "  fig = plt.figure(figsize=(12,8))\n",
        "  _ = tree.plot_tree(classifier,\n",
        "                    feature_names=iris.feature_names,\n",
        "                    class_names=iris.target_names,\n",
        "                    filled=True)\n",
        "\n",
        "import time\n",
        "## Train-Test split 0.2\n",
        "\n",
        "\n",
        "## Train-Test split 0.3\n",
        "\n",
        "\n",
        "## Train-Test split 0.4\n",
        "\n",
        "\n",
        "## Train-Test split 0.5\n",
        "\n",
        "\n"
      ]
    },
    {
      "cell_type": "code",
      "execution_count": null,
      "metadata": {
        "id": "TuGn31kF1Jdo"
      },
      "outputs": [],
      "source": [
        "decision_tree(0.2, 'entropy')"
      ]
    },
    {
      "cell_type": "code",
      "execution_count": null,
      "metadata": {
        "id": "WZ49vTUw1Oyd"
      },
      "outputs": [],
      "source": [
        "decision_tree(0.2, 'gini')"
      ]
    },
    {
      "cell_type": "code",
      "execution_count": null,
      "metadata": {
        "id": "lAVeVx0s1PIM"
      },
      "outputs": [],
      "source": [
        "decision_tree(0.3, 'entropy')"
      ]
    },
    {
      "cell_type": "code",
      "execution_count": null,
      "metadata": {
        "id": "oq9UQJ-t1PqH"
      },
      "outputs": [],
      "source": [
        "\n",
        "decision_tree(0.3, 'gini')"
      ]
    },
    {
      "cell_type": "code",
      "execution_count": null,
      "metadata": {
        "colab": {
          "background_save": true
        },
        "id": "iJ-N8Rp61P5E",
        "outputId": "3506d17d-6af4-4970-841b-032b0042c696"
      },
      "outputs": [],
      "source": [
        "decision_tree(0.4, 'entropy')"
      ]
    },
    {
      "cell_type": "code",
      "execution_count": null,
      "metadata": {
        "colab": {
          "background_save": true
        },
        "id": "rnzaGw1D1QJg",
        "outputId": "cae1fb80-e5b6-4c0c-fada-717a71ab52c9"
      },
      "outputs": [],
      "source": [
        "\n",
        "decision_tree(0.4, 'gini')"
      ]
    },
    {
      "cell_type": "code",
      "execution_count": null,
      "metadata": {
        "id": "JnOTBfo81QY-"
      },
      "outputs": [],
      "source": [
        "decision_tree(0.5, 'entropy')"
      ]
    },
    {
      "cell_type": "code",
      "execution_count": null,
      "metadata": {
        "id": "_X1LRliS1Xo9"
      },
      "outputs": [],
      "source": [
        "decision_tree(0.5, 'gini')"
      ]
    }
  ],
  "metadata": {
    "colab": {
      "provenance": []
    },
    "kernelspec": {
      "display_name": "Python 3",
      "name": "python3"
    },
    "language_info": {
      "name": "python"
    }
  },
  "nbformat": 4,
  "nbformat_minor": 0
}
