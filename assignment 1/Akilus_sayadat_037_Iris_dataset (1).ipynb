{
  "cells": [
    {
      "cell_type": "code",
      "execution_count": null,
      "metadata": {
        "id": "y5XyFFstIc7y"
      },
      "outputs": [],
      "source": [
        "import numpy as np\n",
        "import pandas as pd\n",
        "import matplotlib.pyplot as plt"
      ]
    },
    {
      "cell_type": "code",
      "execution_count": null,
      "metadata": {
        "id": "2vmzqZASIf0z"
      },
      "outputs": [],
      "source": [
        "from sklearn.datasets import load_iris\n",
        "iris = load_iris()\n",
        "df = pd.DataFrame(iris.data, columns = iris.feature_names)\n",
        "column_names = list(df.columns.values)\n",
        "df.head()"
      ]
    },
    {
      "cell_type": "code",
      "execution_count": null,
      "metadata": {
        "id": "9jIfW5EIIgnH"
      },
      "outputs": [],
      "source": [
        "X = df.iloc[:][:]\n",
        "y = iris[\"target\"]\n",
        "dict_bnb = {}\n",
        "dict_mnb = {}\n",
        "dict_gnb = {}\n",
        "dict_dtr = {}\n",
        "RocAucbnb = {}\n",
        "RocAucmnb = {}\n",
        "RocAucgnb = {}\n",
        "RocAucdtr = {}\n",
        "print(X, y)"
      ]
    },
    {
      "cell_type": "code",
      "execution_count": null,
      "metadata": {},
      "outputs": [],
      "source": [
        "def plot(y_test, y_pred):\n",
        "  from sklearn.metrics import confusion_matrix  \n",
        "  import seaborn as sns\n",
        "  \n",
        "  print(\"Confusion Matrix : \")\n",
        "  cf_matrix = confusion_matrix(y_test, y_pred)\n",
        "  group_counts = [\"{0:0.0f}\".format(value) for value in\n",
        "                  cf_matrix.flatten()]\n",
        "  group_percentages = [\"{0:.2%}\".format(value) for value in\n",
        "                      cf_matrix.flatten()/np.sum(cf_matrix)]\n",
        "  labels = [f\"{v1}\\n{v2}\" for v1, v2 in\n",
        "            zip(group_counts,group_percentages)]\n",
        "  labels = np.asarray(labels).reshape(3,3)\n",
        "  plt.figure(figsize=(6, 4))\n",
        "  sns.heatmap(cf_matrix, annot=labels, fmt='', cmap='Blues', xticklabels = iris.target_names, yticklabels=iris.target_names)\n",
        "  plt.xlabel('Predicted')\n",
        "  plt.ylabel('Actual')\n",
        "  plt.title('Confusion Matrix')\n",
        "  plt.show()\n",
        "  print(\"**********************************************\")\n"
      ]
    },
    {
      "cell_type": "code",
      "execution_count": null,
      "metadata": {
        "id": "7s8KIWMMIjCX"
      },
      "outputs": [],
      "source": [
        "def reports(y_test, y_pred):\n",
        "  from sklearn.metrics import classification_report\n",
        "  plot(y_test, y_pred)\n",
        "  print(\"**********************************************\")\n",
        "  print(\"Classification Evaluation : \")\n",
        "  print(classification_report(y_test, y_pred, zero_division = 0))"
      ]
    },
    {
      "cell_type": "markdown",
      "metadata": {
        "id": "LWjl9nmHNicq"
      },
      "source": [
        "### Classification using BernoulliNB Naive Bayes"
      ]
    },
    {
      "cell_type": "code",
      "execution_count": null,
      "metadata": {
        "id": "VBYcZx4-Ilb-"
      },
      "outputs": [],
      "source": [
        "def FBouBernoulli(split, alpha_value = 1.0, binarize_value = 0.0, fit_prior_value = False):\n",
        "  from sklearn.naive_bayes import BernoulliNB\n",
        "  from sklearn.metrics import accuracy_score\n",
        "  from sklearn.model_selection import train_test_split\n",
        "  from sklearn.preprocessing import StandardScaler\n",
        "  #scaler = StandardScaler()\n",
        "  X_train, X_test, y_train, y_test = train_test_split(X,y,test_size = split, random_state=44)\n",
        "  #scaler.fit_transform(X_train)\n",
        "  #scaler.transform(X_test)\n",
        "  classifier = BernoulliNB(alpha = alpha_value, binarize = binarize_value, fit_prior = fit_prior_value)\n",
        "  classifier.fit(X_train, y_train)\n",
        "  y_pred = classifier.predict(X_test)\n",
        "  print(\"Train-test split: \" + str(split))\n",
        "  print(\"value: alpha: \"+str(alpha_value) + \" binarize: \" + str(binarize_value) + \" fit_prior: \" +str(fit_prior_value))\n",
        "  print(\"**********************************************\")\n",
        "  accuracy = accuracy_score(y_test, y_pred)\n",
        "  if str(split) in dict_bnb:\n",
        "    dict_bnb[str(split)] = max(accuracy, dict_bnb[str(split)])\n",
        "    if str(split) == '0.3' and accuracy > dict_bnb[str(split)]:\n",
        "      RocAucbnb['max'] = {'y_test': y_test, 'y_pred': y_pred}\n",
        "  else:\n",
        "    dict_bnb[str(split)] = accuracy\n",
        "    if str(split) == '0.3':\n",
        "      RocAucbnb['max'] = {'y_test': y_test, 'y_pred': y_pred}\n",
        "  reports(y_test, y_pred)\n"
      ]
    },
    {
      "cell_type": "code",
      "execution_count": null,
      "metadata": {
        "id": "l02hvRH60lF4"
      },
      "outputs": [],
      "source": [
        "## Train-Test split 0.3\n",
        "FBouBernoulli(0.3)\n",
        "FBouBernoulli(0.3, 1.0)\n",
        "FBouBernoulli(0.3, 1.0, 1.8)\n",
        "FBouBernoulli(0.3, 1.0, 1.8, True)"
      ]
    },
    {
      "cell_type": "code",
      "execution_count": null,
      "metadata": {
        "id": "hp5TAjKu0nlb"
      },
      "outputs": [],
      "source": [
        "## Train-Test split 0.4\n",
        "FBouBernoulli(0.4)\n",
        "FBouBernoulli(0.4, 1.0)\n",
        "FBouBernoulli(0.4, 1.0, 1.7)\n",
        "FBouBernoulli(0.4, 1.0, 1.7, True)"
      ]
    },
    {
      "cell_type": "code",
      "execution_count": null,
      "metadata": {
        "id": "4OF73gPQ0qP0"
      },
      "outputs": [],
      "source": [
        "\n",
        "## Train-Test split 0.5\n",
        "FBouBernoulli(0.5)\n",
        "FBouBernoulli(0.5, 1.0)\n",
        "FBouBernoulli(0.5, 1.0, 1.75)\n",
        "FBouBernoulli(0.5, 1.0, 1.75, True)"
      ]
    },
    {
      "cell_type": "code",
      "execution_count": null,
      "metadata": {
        "id": "9faeYqi_0teK"
      },
      "outputs": [],
      "source": [
        "x_points = [float(key) for key in dict_bnb]\n",
        "y_points = [i*100 for i in dict_bnb.values()]\n",
        "plt.plot(x_points, y_points)\n",
        "plt.grid(True)\n",
        "plt.show()"
      ]
    },
    {
      "cell_type": "markdown",
      "metadata": {
        "id": "oUe-lvS9PIw0"
      },
      "source": [
        "## Classification using Multinomial Naive Bayes"
      ]
    },
    {
      "cell_type": "code",
      "execution_count": null,
      "metadata": {
        "id": "MipQjtFvNs3P"
      },
      "outputs": [],
      "source": [
        "def FMultinomial(split, alpha_value = 1.0):\n",
        "  from sklearn.naive_bayes import MultinomialNB\n",
        "  from sklearn.metrics import accuracy_score\n",
        "  from sklearn.model_selection import train_test_split\n",
        "  X_train, X_test, y_train, y_test = train_test_split(X,y,test_size = split)\n",
        "  classifier = MultinomialNB(alpha = alpha_value)\n",
        "  classifier.fit(X_train, y_train)\n",
        "  y_pred = classifier.predict(X_test)\n",
        "  print(\"Train-test split: \" + str(split))\n",
        "  print(\"value: alpha: \"+str(alpha_value))\n",
        "  print(\"**********************************************\")\n",
        "  accuracy = accuracy_score(y_test, y_pred)\n",
        "  if str(split) in dict_mnb:\n",
        "    dict_mnb[str(split)] = max(accuracy, dict_mnb[str(split)])\n",
        "    if str(split) == '0.3' and accuracy > dict_mnb[str(split)]:\n",
        "      RocAucmnb['max'] = {'y_test': y_test, 'y_pred': y_pred}\n",
        "  else:\n",
        "    dict_mnb[str(split)] = accuracy\n",
        "    if str(split) == '0.3':\n",
        "      RocAucmnb['max'] = {'y_test': y_test, 'y_pred': y_pred}\n",
        "  reports(y_test, y_pred)\n",
        "  reports(y_test, y_pred)\n",
        "\n",
        "## Train-Test split 0.2\n",
        "FMultinomial(0.2)\n",
        "FMultinomial(0.2, 1.8)\n"
      ]
    },
    {
      "cell_type": "code",
      "execution_count": null,
      "metadata": {
        "id": "ruUEuUjK03xd"
      },
      "outputs": [],
      "source": [
        "## Train-Test split 0.3\n",
        "FMultinomial(0.3)\n",
        "FMultinomial(0.3, 1.6)"
      ]
    },
    {
      "cell_type": "code",
      "execution_count": null,
      "metadata": {
        "id": "-QfJdyqs05eI"
      },
      "outputs": [],
      "source": [
        "## Train-Test split 0.4\n",
        "FMultinomial(0.4)\n",
        "FMultinomial(0.4, 1.4)"
      ]
    },
    {
      "cell_type": "code",
      "execution_count": null,
      "metadata": {
        "id": "F4Gff36T07Gd"
      },
      "outputs": [],
      "source": [
        "## Train-Test split 0.5\n",
        "FMultinomial(0.5)\n",
        "FMultinomial(0.5, 1.5)\n"
      ]
    },
    {
      "cell_type": "code",
      "execution_count": null,
      "metadata": {
        "id": "AU3tzxJQ09VU"
      },
      "outputs": [],
      "source": [
        "x_points = [float(key) for key in dict_mnb]\n",
        "y_points = [i*100 for i in dict_mnb.values()]\n",
        "plt.plot(x_points, y_points)\n",
        "plt.grid(True)\n",
        "plt.show()"
      ]
    },
    {
      "cell_type": "markdown",
      "metadata": {
        "id": "HEqf5hfKPFB0"
      },
      "source": [
        "### **Classification using Guassian Naive Bayes**"
      ]
    },
    {
      "cell_type": "code",
      "execution_count": null,
      "metadata": {
        "id": "6IMqPGyaPDE0"
      },
      "outputs": [],
      "source": [
        "def FGaussian(split):\n",
        "  from sklearn.naive_bayes import GaussianNB\n",
        "  from sklearn.model_selection import train_test_split\n",
        "  from sklearn.metrics import accuracy_score\n",
        "  from sklearn.preprocessing import StandardScaler\n",
        "  scaler = StandardScaler()\n",
        "  X_train, X_test, y_train, y_test = train_test_split(X,y,test_size = split, random_state=44)\n",
        "  scaler.fit_transform(X_train)\n",
        "  scaler.transform(X_test)\n",
        "  classifier = GaussianNB()\n",
        "  classifier.fit(X_train, y_train)\n",
        "  y_pred = classifier.predict(X_test)\n",
        "  print(\"Train-test split: \" + str(split))\n",
        "  print(\"**********************************************\")\n",
        "  reports(y_test, y_pred)\n",
        "  accuracy = accuracy_score(y_test, y_pred)\n",
        "  if(str(split) in dict_gnb):\n",
        "    dict_gnb[str(split)] = max(accuracy, dict_gnb[str(split)])\n",
        "    if(str(split) == '0.3' and accuracy > dict_bnb[str(split)]):\n",
        "      RocAucgnb['max'] = {'y_test': y_test, 'y_pred': y_pred}\n",
        "  else:\n",
        "    dict_gnb[str(split)] = accuracy\n",
        "    RocAucgnb['max'] = {'y_test': y_test, 'y_pred': y_pred}\n",
        "\n",
        "## Train-Test split 0.2\n",
        "FGaussian(0.2)\n",
        "# 94, 97, 94, 96,"
      ]
    },
    {
      "cell_type": "code",
      "execution_count": null,
      "metadata": {
        "id": "4MN7iiUH1CV7"
      },
      "outputs": [],
      "source": [
        "## Train-Test split 0.3\n",
        "FGaussian(0.3)"
      ]
    },
    {
      "cell_type": "code",
      "execution_count": null,
      "metadata": {
        "id": "TYTDGNVY1D-W"
      },
      "outputs": [],
      "source": [
        "## Train-Test split 0.4\n",
        "FGaussian(0.4)"
      ]
    },
    {
      "cell_type": "code",
      "execution_count": null,
      "metadata": {
        "id": "v-ZieEwd1FJ5"
      },
      "outputs": [],
      "source": [
        "## Train-Test split 0.5\n",
        "FGaussian(0.5)"
      ]
    },
    {
      "cell_type": "code",
      "execution_count": null,
      "metadata": {
        "id": "RlMgl7eW1HLF"
      },
      "outputs": [],
      "source": [
        "x_points = [float(key) for key in dict_gnb]\n",
        "y_points = [i*100 for i in dict_gnb.values()]\n",
        "plt.plot(x_points, y_points)\n",
        "plt.grid(True)\n",
        "plt.show()"
      ]
    },
    {
      "cell_type": "markdown",
      "metadata": {
        "id": "KPJYgXuOQROx"
      },
      "source": [
        "### **Classification using Decision Tree**"
      ]
    },
    {
      "cell_type": "code",
      "execution_count": null,
      "metadata": {
        "id": "pH0S69KOQfcs"
      },
      "outputs": [],
      "source": [
        "def decision_tree(split, criterion_value):\n",
        "  from sklearn.model_selection import train_test_split\n",
        "  from sklearn.tree import DecisionTreeClassifier\n",
        "  from sklearn import tree\n",
        "  from sklearn.metrics import accuracy_score\n",
        "  from sklearn.preprocessing import StandardScaler\n",
        "  scaler = StandardScaler()\n",
        "  X_train, X_test, y_train, y_test = train_test_split(X,y,test_size = split, random_state=44)\n",
        "  scaler.fit_transform(X_train)\n",
        "  scaler.transform(X_test)\n",
        "\n",
        "  classifier = DecisionTreeClassifier(criterion = criterion_value)\n",
        "  classifier.fit(X_train, y_train)\n",
        "  y_pred = classifier.predict(X_test)\n",
        "  print(\"Train-test split: \" + str(split))\n",
        "  print(\"Value: Entropy: \" + criterion_value)\n",
        "  print(\"**********************************************\")\n",
        "  reports(y_test, y_pred)\n",
        "  accuracy = accuracy_score(y_test, y_pred)\n",
        "\n",
        "  if(str(split) in dict_dtr):\n",
        "    dict_dtr[str(split)] = max(accuracy, dict_dtr[str(split)])\n",
        "    if(str(split) == '0.3' and accuracy > dict_bnb[str(split)]):\n",
        "      RocAucdtr['max'] = {'y_test': y_test, 'y_pred': y_pred}\n",
        "  else:\n",
        "    dict_dtr[str(split)] = accuracy\n",
        "    if(str(split) == '0.3'):\n",
        "      RocAucdtr['max'] = {'y_test': y_test, 'y_pred': y_pred}\n",
        "      \n",
        "  fig = plt.figure(figsize=(12,8))\n",
        "  _ = tree.plot_tree(classifier,\n",
        "                    feature_names=column_names,\n",
        "                    class_names=['outcome1', 'outcome2', 'outcome3'],\n",
        "                    filled=True)\n",
        "  \n"
      ]
    },
    {
      "cell_type": "code",
      "execution_count": null,
      "metadata": {
        "id": "TuGn31kF1Jdo"
      },
      "outputs": [],
      "source": [
        "decision_tree(0.2, 'entropy')"
      ]
    },
    {
      "cell_type": "code",
      "execution_count": null,
      "metadata": {
        "id": "WZ49vTUw1Oyd"
      },
      "outputs": [],
      "source": [
        "decision_tree(0.2, 'gini')"
      ]
    },
    {
      "cell_type": "code",
      "execution_count": null,
      "metadata": {
        "id": "lAVeVx0s1PIM"
      },
      "outputs": [],
      "source": [
        "decision_tree(0.3, 'entropy')"
      ]
    },
    {
      "cell_type": "code",
      "execution_count": null,
      "metadata": {
        "id": "oq9UQJ-t1PqH"
      },
      "outputs": [],
      "source": [
        "\n",
        "decision_tree(0.3, 'gini')"
      ]
    },
    {
      "cell_type": "code",
      "execution_count": null,
      "metadata": {
        "colab": {
          "background_save": true
        },
        "id": "iJ-N8Rp61P5E",
        "outputId": "3506d17d-6af4-4970-841b-032b0042c696"
      },
      "outputs": [],
      "source": [
        "decision_tree(0.4, 'entropy')"
      ]
    },
    {
      "cell_type": "code",
      "execution_count": null,
      "metadata": {
        "colab": {
          "background_save": true
        },
        "id": "rnzaGw1D1QJg",
        "outputId": "cae1fb80-e5b6-4c0c-fada-717a71ab52c9"
      },
      "outputs": [],
      "source": [
        "\n",
        "decision_tree(0.4, 'gini')"
      ]
    },
    {
      "cell_type": "code",
      "execution_count": null,
      "metadata": {
        "id": "JnOTBfo81QY-"
      },
      "outputs": [],
      "source": [
        "decision_tree(0.5, 'entropy')"
      ]
    },
    {
      "cell_type": "code",
      "execution_count": null,
      "metadata": {
        "id": "_X1LRliS1Xo9"
      },
      "outputs": [],
      "source": [
        "decision_tree(0.5, 'gini')"
      ]
    },
    {
      "cell_type": "code",
      "execution_count": null,
      "metadata": {},
      "outputs": [],
      "source": [
        "x_points = [float(key) for key in dict_dtr]\n",
        "y_points = [i*100 for i in dict_dtr.values()]\n",
        "plt.plot(x_points, y_points)\n",
        "plt.grid(True)\n",
        "plt.show()"
      ]
    },
    {
      "cell_type": "code",
      "execution_count": null,
      "metadata": {},
      "outputs": [],
      "source": [
        "from sklearn import metrics\n",
        "def auc_roc():\n",
        "    fpr1, tpr1, _1 = metrics.roc_curve(RocAucbnb['max']['y_test'], RocAucbnb['max']['y_pred'], pos_label=1)\n",
        "    fpr4, tpr4, _3 = metrics.roc_curve(RocAucmnb['max']['y_test'], RocAucmnb['max']['y_pred'], pos_label=1)\n",
        "    fpr2, tpr2, _2 = metrics.roc_curve(RocAucgnb['max']['y_test'], RocAucgnb['max']['y_pred'], pos_label=1)\n",
        "    fpr3, tpr3, _3 = metrics.roc_curve(RocAucdtr['max']['y_test'], RocAucdtr['max']['y_pred'], pos_label=1)\n",
        "    plt.plot(fpr1, tpr1, linestyle='--',color='orange', label='BernoulliNB')\n",
        "    plt.plot(fpr4, tpr4, linestyle='--',color='green', label='MultinomialNB')\n",
        "    plt.plot(fpr2, tpr2, linestyle='--', color='blue', label= 'GaussianNB')\n",
        "    plt.plot(fpr3, tpr3, linestyle='--', color='black', label= 'Decision Tree')\n",
        "    plt.title('ROC curve')\n",
        "    # x label\n",
        "    plt.xlabel('False Positive Rate')\n",
        "    # y label\n",
        "    plt.ylabel('True Positive rate')\n",
        "\n",
        "    plt.legend(loc='best')\n",
        "    plt.savefig('ROC',dpi=300)\n",
        "    plt.show()\n",
        "auc_roc()"
      ]
    }
  ],
  "metadata": {
    "colab": {
      "provenance": []
    },
    "kernelspec": {
      "display_name": "Python 3",
      "name": "python3"
    },
    "language_info": {
      "codemirror_mode": {
        "name": "ipython",
        "version": 3
      },
      "file_extension": ".py",
      "mimetype": "text/x-python",
      "name": "python",
      "nbconvert_exporter": "python",
      "pygments_lexer": "ipython3",
      "version": "3.10.4"
    }
  },
  "nbformat": 4,
  "nbformat_minor": 0
}
