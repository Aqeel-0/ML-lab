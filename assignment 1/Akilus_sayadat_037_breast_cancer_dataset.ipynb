{
  "cells": [
    {
      "cell_type": "code",
      "execution_count": null,
      "metadata": {
        "id": "y5XyFFstIc7y"
      },
      "outputs": [],
      "source": [
        "import numpy as np\n",
        "import pandas as pd\n",
        "import matplotlib.pyplot as plt"
      ]
    },
    {
      "cell_type": "markdown",
      "metadata": {
        "id": "D5OshQTzbrGl"
      },
      "source": [
        "### **Loading dataset from github**"
      ]
    },
    {
      "cell_type": "code",
      "execution_count": null,
      "metadata": {
        "colab": {
          "base_uri": "https://localhost:8080/",
          "height": 334
        },
        "id": "2vmzqZASIf0z",
        "outputId": "6fb29cfb-a292-4505-885e-dccdd715a0a4"
      },
      "outputs": [],
      "source": [
        "from sklearn.datasets import load_breast_cancer\n",
        "breast_cancer = load_breast_cancer()\n",
        "df = pd.DataFrame(breast_cancer.data, columns = breast_cancer.feature_names)\n",
        "column_names = list(df.columns.values)\n",
        "df.head()\n"
      ]
    },
    {
      "cell_type": "code",
      "execution_count": null,
      "metadata": {
        "id": "9jIfW5EIIgnH"
      },
      "outputs": [],
      "source": [
        "X = df.iloc[:][:]\n",
        "y = breast_cancer[\"target\"]\n",
        "dict_bnb = {}\n",
        "dict_mnb = {}\n",
        "dict_gnb = {}\n",
        "dict_dtr = {}\n",
        "RocAucbnb = {}\n",
        "RocAucmnb = {}\n",
        "RocAucgnb = {}\n",
        "RocAucdtr = {}"
      ]
    },
    {
      "cell_type": "code",
      "execution_count": null,
      "metadata": {},
      "outputs": [],
      "source": [
        "def plot(y_test, y_pred):\n",
        "  from sklearn.metrics import confusion_matrix  \n",
        "  import seaborn as sns\n",
        "\n",
        "  print(\"Confusion Matrix : \")\n",
        "  cf_matrix = confusion_matrix(y_test, y_pred)\n",
        "  group_names = ['True Pos','False Pos','False Neg','True neg']\n",
        "  group_counts = [\"{0:0.0f}\".format(value) for value in\n",
        "                  cf_matrix.flatten()]\n",
        "  group_percentages = [\"{0:.2%}\".format(value) for value in\n",
        "                      cf_matrix.flatten()/np.sum(cf_matrix)]\n",
        "  labels = [f\"{v1}\\n{v2}\\n{v3}\" for v1, v2, v3 in\n",
        "            zip(group_names,group_counts,group_percentages)]\n",
        "  labels = np.asarray(labels).reshape(2,2)\n",
        "  plt.figure(figsize=(6, 4))\n",
        "  sns.heatmap(cf_matrix, annot=labels, fmt='', cmap='Blues', xticklabels=['Benign', 'Malignant'], yticklabels=['Benign', 'Malignant'])\n",
        "  plt.xlabel('Predicted')\n",
        "  plt.ylabel('Actual')\n",
        "  plt.title('Confusion Matrix')\n",
        "  plt.show()\n",
        "  print(\"**********************************************\")\n"
      ]
    },
    {
      "cell_type": "code",
      "execution_count": null,
      "metadata": {},
      "outputs": [],
      "source": [
        "def reports(y_test, y_pred):\n",
        "  from sklearn.metrics import classification_report\n",
        "  plot(y_test, y_pred)\n",
        "  print(\"**********************************************\")\n",
        "  print(\"Classification Evaluation : \")\n",
        "  print(classification_report(y_test, y_pred, zero_division = 0))"
      ]
    },
    {
      "cell_type": "markdown",
      "metadata": {
        "id": "LWjl9nmHNicq"
      },
      "source": [
        "### Classification using BernoulliNB Naive Bayes"
      ]
    },
    {
      "cell_type": "code",
      "execution_count": null,
      "metadata": {
        "colab": {
          "base_uri": "https://localhost:8080/"
        },
        "id": "VBYcZx4-Ilb-",
        "outputId": "37ce465b-72cb-4c1a-b49b-e381c092c236"
      },
      "outputs": [],
      "source": [
        "def FBouBernoulli(split, alpha_value = 1.0, binarize_value = 0.0, fit_prior_value = False):\n",
        "  from sklearn.naive_bayes import BernoulliNB\n",
        "  from sklearn.metrics import accuracy_score\n",
        "  from sklearn.model_selection import train_test_split\n",
        "  from sklearn.preprocessing import StandardScaler\n",
        "  #scaler = StandardScaler()\n",
        "  X_train, X_test, y_train, y_test = train_test_split(X,y,test_size = split, random_state=44)\n",
        "  #scaler.fit_transform(X_train)\n",
        "  #scaler.transform(X_test)\n",
        "  classifier = BernoulliNB(alpha = alpha_value, binarize = binarize_value, fit_prior = fit_prior_value)\n",
        "  classifier.fit(X_train, y_train)\n",
        "  y_pred = classifier.predict(X_test)\n",
        "  print(\"Train-test split: \" + str(split))\n",
        "  print(\"value: alpha: \"+str(alpha_value) + \" binarize: \" + str(binarize_value) + \" fit_prior: \" +str(fit_prior_value))\n",
        "  print(\"**********************************************\")\n",
        "  accuracy = accuracy_score(y_test, y_pred)\n",
        "  if str(split) in dict_bnb:\n",
        "    dict_bnb[str(split)] = max(accuracy, dict_bnb[str(split)])\n",
        "    if str(split) == '0.3' and accuracy > dict_bnb[str(split)]:\n",
        "      RocAucbnb['max'] = {'y_test': y_test, 'y_pred': y_pred}\n",
        "  else:\n",
        "    dict_bnb[str(split)] = accuracy\n",
        "    if str(split) == '0.3':\n",
        "      RocAucbnb['max'] = {'y_test': y_test, 'y_pred': y_pred}\n",
        "  reports(y_test, y_pred)\n"
      ]
    },
    {
      "cell_type": "code",
      "execution_count": null,
      "metadata": {},
      "outputs": [],
      "source": [
        "## Train-Test split 0.2\n",
        "FBouBernoulli(0.2)\n",
        "FBouBernoulli(0.2, 2.8)\n",
        "FBouBernoulli(0.2, 2.0, 2.8)\n",
        "FBouBernoulli(0.2, 3.0, 3.3, True)"
      ]
    },
    {
      "cell_type": "code",
      "execution_count": null,
      "metadata": {
        "colab": {
          "base_uri": "https://localhost:8080/"
        },
        "id": "3TdpJo7S3d0d",
        "outputId": "e7a9254b-c7b4-4d7b-8467-206eb60b990f"
      },
      "outputs": [],
      "source": [
        "## Train-Test split 0.3\n",
        "FBouBernoulli(0.3)\n",
        "FBouBernoulli(0.3, 1.0, 2.8)\n",
        "FBouBernoulli(0.3, 1.0, 2.8, True)"
      ]
    },
    {
      "cell_type": "code",
      "execution_count": null,
      "metadata": {
        "colab": {
          "base_uri": "https://localhost:8080/"
        },
        "id": "dpyq_US93dv0",
        "outputId": "65ddb20d-86cd-4cbd-a316-0617bba7cf71"
      },
      "outputs": [],
      "source": [
        "## Train-Test split 0.4\n",
        "FBouBernoulli(0.4)\n",
        "FBouBernoulli(0.4, 1.0, 2.8)\n",
        "FBouBernoulli(0.4, 1.0, 2.8, True)"
      ]
    },
    {
      "cell_type": "code",
      "execution_count": null,
      "metadata": {
        "colab": {
          "base_uri": "https://localhost:8080/"
        },
        "id": "iWl1OdsG3dqO",
        "outputId": "ad583f43-7eef-428e-b9a0-1db16c89ad11"
      },
      "outputs": [],
      "source": [
        "## Train-Test split 0.5\n",
        "FBouBernoulli(0.5)\n",
        "FBouBernoulli(0.5, 1.0, 2.9)\n",
        "FBouBernoulli(0.5, 1.0, 2.9, True)"
      ]
    },
    {
      "cell_type": "code",
      "execution_count": null,
      "metadata": {},
      "outputs": [],
      "source": [
        "x_points = [float(key) for key in dict_bnb]\n",
        "y_points = [i*100 for i in dict_bnb.values()]\n",
        "plt.plot(x_points, y_points)\n",
        "plt.grid(True)\n",
        "plt.show()"
      ]
    },
    {
      "cell_type": "markdown",
      "metadata": {
        "id": "oUe-lvS9PIw0"
      },
      "source": [
        "## Classification using Multinomial Naive Bayes"
      ]
    },
    {
      "cell_type": "code",
      "execution_count": null,
      "metadata": {
        "colab": {
          "base_uri": "https://localhost:8080/"
        },
        "id": "MipQjtFvNs3P",
        "outputId": "8d23ab1a-c191-466d-9d34-c2a1468e677d"
      },
      "outputs": [],
      "source": [
        "def FMultinomial(split, alpha_value = 1.0):\n",
        "  from sklearn.naive_bayes import MultinomialNB\n",
        "  from sklearn.metrics import accuracy_score\n",
        "  from sklearn.model_selection import train_test_split\n",
        "  X_train, X_test, y_train, y_test = train_test_split(X,y,test_size = split)\n",
        "  classifier = MultinomialNB(alpha = alpha_value)\n",
        "  classifier.fit(X_train, y_train)\n",
        "  y_pred = classifier.predict(X_test)\n",
        "  print(\"Train-test split: \" + str(split))\n",
        "  print(\"value: alpha: \"+str(alpha_value))\n",
        "  print(\"**********************************************\")\n",
        "  accuracy = accuracy_score(y_test, y_pred)\n",
        "  if str(split) in dict_mnb:\n",
        "    dict_mnb[str(split)] = max(accuracy, dict_mnb[str(split)])\n",
        "    if str(split) == '0.3' and accuracy > dict_mnb[str(split)]:\n",
        "      RocAucmnb['max'] = {'y_test': y_test, 'y_pred': y_pred}\n",
        "  else:\n",
        "    dict_mnb[str(split)] = accuracy\n",
        "    if str(split) == '0.3':\n",
        "      RocAucmnb['max'] = {'y_test': y_test, 'y_pred': y_pred}\n",
        "  reports(y_test, y_pred)\n",
        "  reports(y_test, y_pred)\n",
        "\n",
        "## Train-Test split 0.2\n",
        "FMultinomial(0.2)\n",
        "FMultinomial(0.2, 1.8)\n",
        "#92, 91, 89, 91"
      ]
    },
    {
      "cell_type": "code",
      "execution_count": null,
      "metadata": {
        "colab": {
          "base_uri": "https://localhost:8080/"
        },
        "id": "hwP8A8xL3m0e",
        "outputId": "70788f61-7adf-4e11-93ae-b8e9f289b06d"
      },
      "outputs": [],
      "source": [
        "## Train-Test split 0.3\n",
        "FMultinomial(0.3)\n",
        "FMultinomial(0.3, 2.5)"
      ]
    },
    {
      "cell_type": "code",
      "execution_count": null,
      "metadata": {
        "colab": {
          "base_uri": "https://localhost:8080/"
        },
        "id": "eyTcoNmB3muY",
        "outputId": "2d28463b-c25d-46a7-fdcf-83c536eb3ceb"
      },
      "outputs": [],
      "source": [
        "## Train-Test split 0.4\n",
        "FMultinomial(0.4)\n",
        "FMultinomial(0.4, 2.1)"
      ]
    },
    {
      "cell_type": "code",
      "execution_count": null,
      "metadata": {
        "colab": {
          "base_uri": "https://localhost:8080/"
        },
        "id": "aWOOIBDN3moW",
        "outputId": "6716d8c9-e33e-490b-e8e9-1293c9c26b33"
      },
      "outputs": [],
      "source": [
        "## Train-Test split 0.5\n",
        "FMultinomial(0.5)\n",
        "FMultinomial(0.5, 1.8)"
      ]
    },
    {
      "cell_type": "code",
      "execution_count": null,
      "metadata": {
        "colab": {
          "base_uri": "https://localhost:8080/",
          "height": 430
        },
        "id": "ZOb5dWDj3min",
        "outputId": "3c5853a1-7de5-4f0b-b11b-227cdcea1f5d"
      },
      "outputs": [],
      "source": [
        "x_points = [float(key) for key in dict_mnb]\n",
        "y_points = [i*100 for i in dict_mnb.values()]\n",
        "plt.plot(x_points, y_points)\n",
        "plt.grid(True)\n",
        "plt.show()"
      ]
    },
    {
      "cell_type": "markdown",
      "metadata": {
        "id": "HEqf5hfKPFB0"
      },
      "source": [
        "### **Classification using Guassian Naive Bayes**"
      ]
    },
    {
      "cell_type": "code",
      "execution_count": null,
      "metadata": {
        "colab": {
          "base_uri": "https://localhost:8080/"
        },
        "id": "6IMqPGyaPDE0",
        "outputId": "14db0fda-2f5e-493c-90b1-4b5abfdd02fb"
      },
      "outputs": [],
      "source": [
        "def FGaussian(split):\n",
        "  from sklearn.naive_bayes import GaussianNB\n",
        "  from sklearn.model_selection import train_test_split\n",
        "  from sklearn.metrics import accuracy_score\n",
        "  from sklearn.preprocessing import StandardScaler\n",
        "  scaler = StandardScaler()\n",
        "  X_train, X_test, y_train, y_test = train_test_split(X,y,test_size = split, random_state=44)\n",
        "  scaler.fit_transform(X_train)\n",
        "  scaler.transform(X_test)\n",
        "  classifier = GaussianNB()\n",
        "  classifier.fit(X_train, y_train)\n",
        "  y_pred = classifier.predict(X_test)\n",
        "  print(\"Train-test split: \" + str(split))\n",
        "  print(\"**********************************************\")\n",
        "  reports(y_test, y_pred)\n",
        "  accuracy = accuracy_score(y_test, y_pred)\n",
        "  if(str(split) in dict_gnb):\n",
        "    dict_gnb[str(split)] = max(accuracy, dict_gnb[str(split)])\n",
        "    if(str(split) == '0.3' and accuracy > dict_bnb[str(split)]):\n",
        "      RocAucgnb['max'] = {'y_test': y_test, 'y_pred': y_pred}\n",
        "  else:\n",
        "    dict_gnb[str(split)] = accuracy\n",
        "    RocAucgnb['max'] = {'y_test': y_test, 'y_pred': y_pred}\n",
        "\n",
        "## Train-Test split 0.2\n",
        "FGaussian(0.2)\n",
        "# 94, 97, 94, 96,"
      ]
    },
    {
      "cell_type": "code",
      "execution_count": null,
      "metadata": {
        "colab": {
          "base_uri": "https://localhost:8080/"
        },
        "id": "aAB_6n6M3uXd",
        "outputId": "7a839e47-865f-400e-b252-ea94424d21d6"
      },
      "outputs": [],
      "source": [
        "## Train-Test split 0.3\n",
        "FGaussian(0.3)\n"
      ]
    },
    {
      "cell_type": "code",
      "execution_count": null,
      "metadata": {
        "colab": {
          "base_uri": "https://localhost:8080/"
        },
        "id": "huVki6mn3uMo",
        "outputId": "4ad0287b-e005-47dd-ed54-d7b07b056b98"
      },
      "outputs": [],
      "source": [
        "## Train-Test split 0.4\n",
        "FGaussian(0.4)"
      ]
    },
    {
      "cell_type": "code",
      "execution_count": null,
      "metadata": {
        "colab": {
          "base_uri": "https://localhost:8080/"
        },
        "id": "WMxf83C23uG3",
        "outputId": "b9205670-f20d-4a20-f2ef-7b5a28b10e00"
      },
      "outputs": [],
      "source": [
        "## Train-Test split 0.5\n",
        "FGaussian(0.5)"
      ]
    },
    {
      "cell_type": "code",
      "execution_count": null,
      "metadata": {},
      "outputs": [],
      "source": [
        "x_points = [float(key) for key in dict_gnb]\n",
        "y_points = [i*100 for i in dict_gnb.values()]\n",
        "plt.plot(x_points, y_points)\n",
        "plt.grid(True)\n",
        "plt.show()"
      ]
    },
    {
      "cell_type": "markdown",
      "metadata": {
        "id": "KPJYgXuOQROx"
      },
      "source": [
        "### **Classification using Decision Tree**"
      ]
    },
    {
      "cell_type": "code",
      "execution_count": null,
      "metadata": {
        "id": "pH0S69KOQfcs"
      },
      "outputs": [],
      "source": [
        "def decision_tree(split, criterion_value):\n",
        "  from sklearn.model_selection import train_test_split\n",
        "  from sklearn.tree import DecisionTreeClassifier\n",
        "  from sklearn import tree\n",
        "  from sklearn.metrics import accuracy_score\n",
        "  from sklearn.preprocessing import StandardScaler\n",
        "  scaler = StandardScaler()\n",
        "  X_train, X_test, y_train, y_test = train_test_split(X,y,test_size = split, random_state=44)\n",
        "  scaler.fit_transform(X_train)\n",
        "  scaler.transform(X_test)\n",
        "\n",
        "  classifier = DecisionTreeClassifier(criterion = criterion_value)\n",
        "  classifier.fit(X_train, y_train)\n",
        "  y_pred = classifier.predict(X_test)\n",
        "  print(\"Train-test split: \" + str(split))\n",
        "  print(\"Value: Entropy: \" + criterion_value)\n",
        "  print(\"**********************************************\")\n",
        "  reports(y_test, y_pred)\n",
        "  accuracy = accuracy_score(y_test, y_pred)\n",
        "\n",
        "  if(str(split) in dict_dtr):\n",
        "    dict_dtr[str(split)] = max(accuracy, dict_dtr[str(split)])\n",
        "    if(str(split) == '0.3' and accuracy > dict_bnb[str(split)]):\n",
        "      RocAucdtr['max'] = {'y_test': y_test, 'y_pred': y_pred}\n",
        "  else:\n",
        "    dict_dtr[str(split)] = accuracy\n",
        "    if(str(split) == '0.3'):\n",
        "      RocAucdtr['max'] = {'y_test': y_test, 'y_pred': y_pred}\n",
        "      \n",
        "  fig = plt.figure(figsize=(12,8))\n",
        "  _ = tree.plot_tree(classifier,\n",
        "                    feature_names=column_names,\n",
        "                    class_names=['outcome1', 'outcome2'],\n",
        "                    filled=True)\n",
        "  \n"
      ]
    },
    {
      "cell_type": "code",
      "execution_count": null,
      "metadata": {
        "colab": {
          "base_uri": "https://localhost:8080/",
          "height": 962
        },
        "id": "TuGn31kF1Jdo",
        "outputId": "b129fa34-af35-4f1a-a2be-f178e755056d"
      },
      "outputs": [],
      "source": [
        "decision_tree(0.2, 'entropy')"
      ]
    },
    {
      "cell_type": "code",
      "execution_count": null,
      "metadata": {
        "colab": {
          "base_uri": "https://localhost:8080/",
          "height": 962
        },
        "id": "WZ49vTUw1Oyd",
        "outputId": "0738a2c0-a5f8-4c33-a4fc-af4912da14c6"
      },
      "outputs": [],
      "source": [
        "decision_tree(0.2, 'gini')"
      ]
    },
    {
      "cell_type": "code",
      "execution_count": null,
      "metadata": {
        "colab": {
          "base_uri": "https://localhost:8080/",
          "height": 962
        },
        "id": "lAVeVx0s1PIM",
        "outputId": "abb45b31-6ca6-4b06-cd8d-21733e0cd4db"
      },
      "outputs": [],
      "source": [
        "decision_tree(0.3, 'entropy')"
      ]
    },
    {
      "cell_type": "code",
      "execution_count": null,
      "metadata": {
        "colab": {
          "base_uri": "https://localhost:8080/",
          "height": 962
        },
        "id": "oq9UQJ-t1PqH",
        "outputId": "8935e2b6-6c7e-464d-d523-48fd91523336"
      },
      "outputs": [],
      "source": [
        "\n",
        "decision_tree(0.3, 'gini')"
      ]
    },
    {
      "cell_type": "code",
      "execution_count": null,
      "metadata": {
        "colab": {
          "base_uri": "https://localhost:8080/",
          "height": 962
        },
        "id": "iJ-N8Rp61P5E",
        "outputId": "ea3f37e6-6491-470e-883e-01984e7b17e2"
      },
      "outputs": [],
      "source": [
        "decision_tree(0.4, 'entropy')"
      ]
    },
    {
      "cell_type": "code",
      "execution_count": null,
      "metadata": {
        "colab": {
          "base_uri": "https://localhost:8080/",
          "height": 962
        },
        "id": "rnzaGw1D1QJg",
        "outputId": "95b99a93-2c30-420d-81e4-a301d0be18f2"
      },
      "outputs": [],
      "source": [
        "\n",
        "decision_tree(0.4, 'gini')"
      ]
    },
    {
      "cell_type": "code",
      "execution_count": null,
      "metadata": {
        "colab": {
          "base_uri": "https://localhost:8080/",
          "height": 962
        },
        "id": "JnOTBfo81QY-",
        "outputId": "9915cd99-ae2d-47a6-b029-cd33480d8334"
      },
      "outputs": [],
      "source": [
        "decision_tree(0.5, 'entropy')"
      ]
    },
    {
      "cell_type": "code",
      "execution_count": null,
      "metadata": {
        "colab": {
          "base_uri": "https://localhost:8080/",
          "height": 962
        },
        "id": "_X1LRliS1Xo9",
        "outputId": "4645e576-e269-494e-e607-6a19c742e6d0"
      },
      "outputs": [],
      "source": [
        "decision_tree(0.5, 'gini')"
      ]
    },
    {
      "cell_type": "code",
      "execution_count": null,
      "metadata": {},
      "outputs": [],
      "source": [
        "x_points = [float(key) for key in dict_dtr]\n",
        "y_points = [i*100 for i in dict_dtr.values()]\n",
        "plt.plot(x_points, y_points)\n",
        "plt.grid(True)\n",
        "plt.show()"
      ]
    },
    {
      "cell_type": "code",
      "execution_count": null,
      "metadata": {},
      "outputs": [],
      "source": [
        "from sklearn import metrics\n",
        "def auc_roc():\n",
        "    fpr1, tpr1, _1 = metrics.roc_curve(RocAucbnb['max']['y_test'], RocAucbnb['max']['y_pred'], pos_label=1)\n",
        "    fpr4, tpr4, _3 = metrics.roc_curve(RocAucmnb['max']['y_test'], RocAucmnb['max']['y_pred'], pos_label=1)\n",
        "    fpr2, tpr2, _2 = metrics.roc_curve(RocAucgnb['max']['y_test'], RocAucgnb['max']['y_pred'], pos_label=1)\n",
        "    fpr3, tpr3, _3 = metrics.roc_curve(RocAucdtr['max']['y_test'], RocAucdtr['max']['y_pred'], pos_label=1)\n",
        "    plt.plot(fpr1, tpr1, linestyle='--',color='orange', label='BernoulliNB')\n",
        "    plt.plot(fpr4, tpr4, linestyle='--',color='green', label='MultinomialNB')\n",
        "    plt.plot(fpr2, tpr2, linestyle='--', color='blue', label= 'GaussianNB')\n",
        "    plt.plot(fpr3, tpr3, linestyle='--', color='black', label= 'Decision Tree')\n",
        "    plt.title('ROC curve')\n",
        "    # x label\n",
        "    plt.xlabel('False Positive Rate')\n",
        "    # y label\n",
        "    plt.ylabel('True Positive rate')\n",
        "\n",
        "    plt.legend(loc='best')\n",
        "    plt.savefig('ROC',dpi=300)\n",
        "    plt.show()\n",
        "auc_roc()"
      ]
    }
  ],
  "metadata": {
    "colab": {
      "provenance": []
    },
    "kernelspec": {
      "display_name": "Python 3",
      "name": "python3"
    },
    "language_info": {
      "codemirror_mode": {
        "name": "ipython",
        "version": 3
      },
      "file_extension": ".py",
      "mimetype": "text/x-python",
      "name": "python",
      "nbconvert_exporter": "python",
      "pygments_lexer": "ipython3",
      "version": "3.10.4"
    }
  },
  "nbformat": 4,
  "nbformat_minor": 0
}
