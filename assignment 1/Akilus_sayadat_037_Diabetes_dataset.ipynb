{
  "cells": [
    {
      "cell_type": "code",
      "execution_count": null,
      "metadata": {
        "id": "Z-Xck0tsWVgW"
      },
      "outputs": [],
      "source": []
    },
    {
      "cell_type": "code",
      "execution_count": null,
      "metadata": {
        "id": "y5XyFFstIc7y"
      },
      "outputs": [],
      "source": [
        "import numpy as np\n",
        "import pandas as pd\n",
        "import matplotlib.pyplot as plt"
      ]
    },
    {
      "cell_type": "markdown",
      "metadata": {
        "id": "D5OshQTzbrGl"
      },
      "source": [
        "### **Loading dataset from github**"
      ]
    },
    {
      "cell_type": "code",
      "execution_count": null,
      "metadata": {
        "id": "2vmzqZASIf0z"
      },
      "outputs": [],
      "source": [
        "url = 'https://raw.githubusercontent.com/Aqeel-0/test/build/diabetes.csv'\n",
        "df = pd.read_csv(url)\n",
        "df.head()\n",
        "column_names = list(df.columns.values)\n"
      ]
    },
    {
      "cell_type": "code",
      "execution_count": null,
      "metadata": {
        "colab": {
          "base_uri": "https://localhost:8080/"
        },
        "id": "9jIfW5EIIgnH",
        "outputId": "a40faa18-7b50-4124-d59e-c579beb53f18"
      },
      "outputs": [],
      "source": [
        "X = df.iloc[:,:-1]\n",
        "y = df[\"Outcome\"]\n",
        "y.info(), X.info()"
      ]
    },
    {
      "cell_type": "code",
      "execution_count": null,
      "metadata": {
        "id": "7s8KIWMMIjCX"
      },
      "outputs": [],
      "source": [
        "def reports(y_test, y_pred):\n",
        "  from sklearn.metrics import classification_report, confusion_matrix\n",
        "  from sklearn.metrics import accuracy_score\n",
        "  print(\"Confusion Matrix : \")\n",
        "  print(confusion_matrix(y_test, y_pred))\n",
        "  print(\"**********************************************\")\n",
        "  print(\"Classification Evaluation : \")\n",
        "  print(classification_report(y_test, y_pred, zero_division = 0))"
      ]
    },
    {
      "cell_type": "markdown",
      "metadata": {
        "id": "LWjl9nmHNicq"
      },
      "source": [
        "### Classification using BernoulliNB Naive Bayes"
      ]
    },
    {
      "cell_type": "code",
      "execution_count": null,
      "metadata": {
        "colab": {
          "base_uri": "https://localhost:8080/"
        },
        "id": "VBYcZx4-Ilb-",
        "outputId": "c617b0a2-96ac-42f4-a9c1-463a92298876"
      },
      "outputs": [],
      "source": [
        "def FBouBernoulli(split, alpha_value = 1.0, binarize_value = 0.0, fit_prior_value = False):\n",
        "  from sklearn.naive_bayes import BernoulliNB\n",
        "  from sklearn.model_selection import train_test_split\n",
        "  X_train, X_test, y_train, y_test = train_test_split(X,y,test_size = split, random_state=44)\n",
        "  classifier = BernoulliNB(alpha = alpha_value, binarize = binarize_value, fit_prior = fit_prior_value)\n",
        "  classifier.fit(X_train, y_train)\n",
        "  y_pred = classifier.predict(X_test)\n",
        "  print(\"Train-test split: \" + str(split))\n",
        "  print(\"value: alpha: \"+str(alpha_value) + \" binarize: \" + str(binarize_value) + \" fit_prior: \" +str(fit_prior_value))\n",
        "  print(\"**********************************************\")\n",
        "\n",
        "  reports(y_test, y_pred)\n",
        "\n",
        "## Train-Test split 0.2\n",
        "FBouBernoulli(0.2)\n",
        "FBouBernoulli(0.2, 2.0)\n",
        "FBouBernoulli(0.2, 2.0, 3.5)\n",
        "FBouBernoulli(0.2, 3.0, 5, True)\n",
        "\n"
      ]
    },
    {
      "cell_type": "code",
      "execution_count": null,
      "metadata": {
        "colab": {
          "base_uri": "https://localhost:8080/"
        },
        "id": "-_7sClV212Rb",
        "outputId": "b43313a5-9b16-4f19-c76e-469256e7dbfd"
      },
      "outputs": [],
      "source": [
        "## Train-Test split 0.3\n",
        "FBouBernoulli(0.3)\n",
        "FBouBernoulli(0.3, 1.0, 1.5)\n",
        "FBouBernoulli(0.3, 1.0, 1.5, True)"
      ]
    },
    {
      "cell_type": "code",
      "execution_count": null,
      "metadata": {
        "colab": {
          "base_uri": "https://localhost:8080/"
        },
        "id": "K8PofFIo12qp",
        "outputId": "ec8a5c2a-94b1-4beb-af32-4ac1818ae013"
      },
      "outputs": [],
      "source": [
        "## Train-Test split 0.4\n",
        "FBouBernoulli(0.4)"
      ]
    },
    {
      "cell_type": "code",
      "execution_count": null,
      "metadata": {
        "colab": {
          "base_uri": "https://localhost:8080/"
        },
        "id": "Tbx1sMOf129W",
        "outputId": "2431f7e6-6b6f-45ed-b7a2-4b8a55a93525"
      },
      "outputs": [],
      "source": [
        "\n",
        "## Train-Test split 0.5\n",
        "FBouBernoulli(0.5)\n",
        "FBouBernoulli(0.5, 1.0, 7.9)\n",
        "FBouBernoulli(0.5, 1.0, 7.9, True)"
      ]
    },
    {
      "cell_type": "code",
      "execution_count": null,
      "metadata": {
        "colab": {
          "base_uri": "https://localhost:8080/",
          "height": 430
        },
        "id": "Zw2mZyuL13cM",
        "outputId": "bfb5ec5e-4d28-472b-cc9e-6be4925eaab7"
      },
      "outputs": [],
      "source": [
        "x_points = np.array([0.2, 0.3, 0.4, 0.5])\n",
        "y_points = np.array([69, 61, 56, 64])\n",
        "plt.plot(x_points, y_points)\n",
        "plt.grid(True)\n",
        "plt.show()"
      ]
    },
    {
      "cell_type": "markdown",
      "metadata": {
        "id": "oUe-lvS9PIw0"
      },
      "source": [
        "## Classification using Multinomial Naive Bayes"
      ]
    },
    {
      "cell_type": "code",
      "execution_count": null,
      "metadata": {
        "colab": {
          "base_uri": "https://localhost:8080/"
        },
        "id": "MipQjtFvNs3P",
        "outputId": "160d837f-5b2e-438b-e0c6-191fa3ba61c9"
      },
      "outputs": [],
      "source": [
        "def FMultinomial(split, alpha_value = 1.0):\n",
        "  from sklearn.naive_bayes import MultinomialNB\n",
        "  from sklearn.model_selection import train_test_split\n",
        "  X_train, X_test, y_train, y_test = train_test_split(X,y,test_size = split)\n",
        "  classifier = MultinomialNB(alpha = alpha_value)\n",
        "  classifier.fit(X_train, y_train)\n",
        "  y_pred = classifier.predict(X_test)\n",
        "  print(\"Train-test split: \" + str(split))\n",
        "  print(\"value: alpha: \"+str(alpha_value))\n",
        "  print(\"**********************************************\")\n",
        "  reports(y_test, y_pred)\n",
        "\n",
        "## Train-Test split 0.2\n",
        "FMultinomial(0.2)\n",
        "FMultinomial(0.2, 2.3)\n",
        "\n",
        "\n",
        "\n",
        "\n",
        "\n",
        "\n",
        "\n",
        "\n",
        "\n",
        "#61 63 63 64"
      ]
    },
    {
      "cell_type": "code",
      "execution_count": null,
      "metadata": {
        "colab": {
          "base_uri": "https://localhost:8080/"
        },
        "id": "mwsBOOtF2Afy",
        "outputId": "42b84b3f-d205-45a8-9313-023e229a9fd0"
      },
      "outputs": [],
      "source": [
        "## Train-Test split 0.3\n",
        "FMultinomial(0.3)\n",
        "FMultinomial(0.3, 2.9)"
      ]
    },
    {
      "cell_type": "code",
      "execution_count": null,
      "metadata": {
        "colab": {
          "base_uri": "https://localhost:8080/"
        },
        "id": "8la2yoiD2AVn",
        "outputId": "43118a97-49df-4e10-c8af-e6e166d4e542"
      },
      "outputs": [],
      "source": [
        "## Train-Test split 0.4\n",
        "FMultinomial(0.4)\n",
        "FMultinomial(0.4, 1.1)"
      ]
    },
    {
      "cell_type": "code",
      "execution_count": null,
      "metadata": {
        "colab": {
          "base_uri": "https://localhost:8080/"
        },
        "id": "afW-CLnC2AL5",
        "outputId": "3e1011f0-fc8a-40a3-b230-4e3f431edb2d"
      },
      "outputs": [],
      "source": [
        "## Train-Test split 0.5\n",
        "FMultinomial(0.5)\n",
        "FMultinomial(0.5, 4.8)"
      ]
    },
    {
      "cell_type": "code",
      "execution_count": null,
      "metadata": {
        "colab": {
          "base_uri": "https://localhost:8080/",
          "height": 430
        },
        "id": "3BlSIZC71_-V",
        "outputId": "25317066-9a62-4481-85e8-26a0d5e85e23"
      },
      "outputs": [],
      "source": [
        "x_points = np.array([0.2, 0.3, 0.4, 0.5])\n",
        "y_points = np.array([61, 63, 63, 64])\n",
        "plt.plot(x_points, y_points)\n",
        "plt.grid(True)\n",
        "plt.show()"
      ]
    },
    {
      "cell_type": "markdown",
      "metadata": {
        "id": "HEqf5hfKPFB0"
      },
      "source": [
        "### **Classification using Guassian Naive Bayes**"
      ]
    },
    {
      "cell_type": "code",
      "execution_count": null,
      "metadata": {
        "colab": {
          "base_uri": "https://localhost:8080/"
        },
        "id": "6IMqPGyaPDE0",
        "outputId": "7c620da1-8911-4167-d9c0-0a94fbe88439"
      },
      "outputs": [],
      "source": [
        "def FGaussian(split):\n",
        "  from sklearn.naive_bayes import GaussianNB\n",
        "  from sklearn.model_selection import train_test_split\n",
        "  X_train, X_test, y_train, y_test = train_test_split(X,y,test_size = split)\n",
        "  classifier = GaussianNB()\n",
        "  classifier.fit(X_train, y_train)\n",
        "  y_pred = classifier.predict(X_test)\n",
        "  print(\"Train-test split: \" + str(split))\n",
        "  print(\"**********************************************\")\n",
        "  reports(y_test, y_pred)\n",
        "\n",
        "## Train-Test split 0.2\n",
        "FGaussian(0.2)\n",
        "\n",
        "\n",
        "\n",
        "\n",
        "\n",
        "\n",
        "\n",
        "\n",
        "\n",
        "\n",
        "\n",
        "\n"
      ]
    },
    {
      "cell_type": "code",
      "execution_count": null,
      "metadata": {
        "colab": {
          "base_uri": "https://localhost:8080/"
        },
        "id": "ue7c-s732GEp",
        "outputId": "72db5c87-4e6b-496e-dda2-71bcda03d238"
      },
      "outputs": [],
      "source": [
        "## Train-Test split 0.3\n",
        "FGaussian(0.3)"
      ]
    },
    {
      "cell_type": "code",
      "execution_count": null,
      "metadata": {
        "colab": {
          "base_uri": "https://localhost:8080/"
        },
        "id": "ZwZDJlom2F9t",
        "outputId": "7a6c6648-5a6e-492a-fc50-7730fc5f365a"
      },
      "outputs": [],
      "source": [
        "## Train-Test split 0.4\n",
        "FGaussian(0.4)"
      ]
    },
    {
      "cell_type": "code",
      "execution_count": null,
      "metadata": {
        "colab": {
          "base_uri": "https://localhost:8080/"
        },
        "id": "xsjN87Zf2F2B",
        "outputId": "45b4551e-fdf7-40b2-c6b7-1a33f45e44c4"
      },
      "outputs": [],
      "source": [
        "\n",
        "## Train-Test split 0.5\n",
        "FGaussian(0.5)"
      ]
    },
    {
      "cell_type": "code",
      "execution_count": null,
      "metadata": {
        "colab": {
          "base_uri": "https://localhost:8080/",
          "height": 430
        },
        "id": "J8FwnaM62Ft7",
        "outputId": "9d3a4f85-8e1b-4dee-9310-aff3d9791e52"
      },
      "outputs": [],
      "source": [
        "x_points = np.array([0.2, 0.3, 0.4, 0.5])\n",
        "y_points = np.array([75, 71, 78, 76])\n",
        "plt.plot(x_points, y_points)\n",
        "plt.grid(True)\n",
        "plt.show()"
      ]
    },
    {
      "cell_type": "markdown",
      "metadata": {
        "id": "KPJYgXuOQROx"
      },
      "source": [
        "### **Classification using Decision Tree**"
      ]
    },
    {
      "cell_type": "code",
      "execution_count": null,
      "metadata": {
        "id": "pH0S69KOQfcs"
      },
      "outputs": [],
      "source": [
        "def decision_tree(split, criterion_value):\n",
        "  from sklearn.model_selection import train_test_split\n",
        "  from sklearn.tree import DecisionTreeClassifier\n",
        "  from sklearn import tree\n",
        "  X_train, X_test, y_train, y_test = train_test_split(X,y,test_size = split)\n",
        "\n",
        "  classifier = DecisionTreeClassifier(criterion = criterion_value)\n",
        "  classifier.fit(X_train, y_train)\n",
        "  y_pred = classifier.predict(X_test)\n",
        "  print(\"Train-test split: \" + str(split))\n",
        "  print(\"Value: Entropy: \" + criterion_value)\n",
        "  print(\"**********************************************\")\n",
        "  reports(y_test, y_pred)\n",
        "  fig = plt.figure(figsize=(12,8))\n",
        "  _ = tree.plot_tree(classifier,\n",
        "                    feature_names=column_names,\n",
        "                    class_names='outcome',\n",
        "                    filled=True)\n",
        "\n"
      ]
    },
    {
      "cell_type": "code",
      "execution_count": null,
      "metadata": {
        "colab": {
          "base_uri": "https://localhost:8080/",
          "height": 962
        },
        "id": "TuGn31kF1Jdo",
        "outputId": "0d0aaeb7-b6d5-4c48-d75f-b91b10b64c57"
      },
      "outputs": [],
      "source": [
        "decision_tree(0.2, 'entropy')"
      ]
    },
    {
      "cell_type": "code",
      "execution_count": null,
      "metadata": {
        "colab": {
          "base_uri": "https://localhost:8080/",
          "height": 962
        },
        "id": "WZ49vTUw1Oyd",
        "outputId": "8250cd08-809d-41e8-cb43-b73a215065e1"
      },
      "outputs": [],
      "source": [
        "decision_tree(0.2, 'gini')"
      ]
    },
    {
      "cell_type": "code",
      "execution_count": null,
      "metadata": {
        "colab": {
          "base_uri": "https://localhost:8080/",
          "height": 962
        },
        "id": "lAVeVx0s1PIM",
        "outputId": "593d995c-c582-4d8c-d1a0-ec4e92a665cb"
      },
      "outputs": [],
      "source": [
        "decision_tree(0.3, 'entropy')"
      ]
    },
    {
      "cell_type": "code",
      "execution_count": null,
      "metadata": {
        "colab": {
          "base_uri": "https://localhost:8080/",
          "height": 962
        },
        "id": "oq9UQJ-t1PqH",
        "outputId": "8d11dea7-c7c0-49fb-ecf9-88f8dd37d546"
      },
      "outputs": [],
      "source": [
        "decision_tree(0.3, 'gini')"
      ]
    },
    {
      "cell_type": "code",
      "execution_count": null,
      "metadata": {
        "colab": {
          "base_uri": "https://localhost:8080/",
          "height": 962
        },
        "id": "iJ-N8Rp61P5E",
        "outputId": "b544dbf6-a12f-439d-df34-2d1b79ab04be"
      },
      "outputs": [],
      "source": [
        "decision_tree(0.4, 'entropy')"
      ]
    },
    {
      "cell_type": "code",
      "execution_count": null,
      "metadata": {
        "colab": {
          "base_uri": "https://localhost:8080/",
          "height": 962
        },
        "id": "rnzaGw1D1QJg",
        "outputId": "e2eb06f2-e5b0-4359-b929-d27c17d73a60"
      },
      "outputs": [],
      "source": [
        "decision_tree(0.4, 'gini')"
      ]
    },
    {
      "cell_type": "code",
      "execution_count": null,
      "metadata": {
        "colab": {
          "base_uri": "https://localhost:8080/",
          "height": 962
        },
        "id": "JnOTBfo81QY-",
        "outputId": "0329e6b6-5019-4aa1-c75d-e8cd18b2699c"
      },
      "outputs": [],
      "source": [
        "decision_tree(0.5, 'entropy')"
      ]
    },
    {
      "cell_type": "code",
      "execution_count": null,
      "metadata": {
        "colab": {
          "base_uri": "https://localhost:8080/",
          "height": 962
        },
        "id": "_X1LRliS1Xo9",
        "outputId": "9e9f1526-b432-47b8-86ca-93887842d72d"
      },
      "outputs": [],
      "source": [
        "decision_tree(0.5, 'gini')"
      ]
    }
  ],
  "metadata": {
    "colab": {
      "provenance": []
    },
    "kernelspec": {
      "display_name": "Python 3",
      "name": "python3"
    },
    "language_info": {
      "name": "python"
    }
  },
  "nbformat": 4,
  "nbformat_minor": 0
}
