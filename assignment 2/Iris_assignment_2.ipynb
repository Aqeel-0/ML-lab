{
  "cells": [
    {
      "cell_type": "markdown",
      "metadata": {},
      "source": [
        "### **Iris Dataset classification using SVM, MLP and Random Forest classifier**"
      ]
    },
    {
      "cell_type": "code",
      "execution_count": null,
      "metadata": {
        "id": "y5XyFFstIc7y"
      },
      "outputs": [],
      "source": [
        "import numpy as np\n",
        "import pandas as pd\n",
        "import matplotlib.pyplot as plt"
      ]
    },
    {
      "cell_type": "code",
      "execution_count": null,
      "metadata": {
        "colab": {
          "base_uri": "https://localhost:8080/",
          "height": 206
        },
        "id": "2vmzqZASIf0z",
        "outputId": "6d6ecfc0-c7de-4342-e346-e89f29f7e753"
      },
      "outputs": [],
      "source": [
        "from sklearn.datasets import load_iris\n",
        "iris = load_iris()\n",
        "df = pd.DataFrame(iris.data, columns = iris.feature_names)\n",
        "df.head()"
      ]
    },
    {
      "cell_type": "code",
      "execution_count": null,
      "metadata": {
        "colab": {
          "base_uri": "https://localhost:8080/"
        },
        "id": "9jIfW5EIIgnH",
        "outputId": "46efb0a4-6c08-412f-e145-a1bfb801e643"
      },
      "outputs": [],
      "source": [
        "X = df.iloc[:][:]\n",
        "y = iris[\"target\"]\n",
        "dict_svm = {}\n",
        "dict_mlp = {}\n",
        "dict_rfr = {}\n",
        "RocAucSvm = {}\n",
        "RocAucMlp = {}\n",
        "RocAucRfr = {}\n",
        "print(X, y)"
      ]
    },
    {
      "cell_type": "markdown",
      "metadata": {},
      "source": [
        "### **Used for ploting confusion matrix**"
      ]
    },
    {
      "cell_type": "code",
      "execution_count": null,
      "metadata": {},
      "outputs": [],
      "source": [
        "def plot(y_test, y_pred):\n",
        "  from sklearn.metrics import confusion_matrix  \n",
        "  import seaborn as sns\n",
        "  \n",
        "  print(\"Confusion Matrix : \")\n",
        "  cf_matrix = confusion_matrix(y_test, y_pred)\n",
        "  group_counts = [\"{0:0.0f}\".format(value) for value in\n",
        "                  cf_matrix.flatten()]\n",
        "  group_percentages = [\"{0:.2%}\".format(value) for value in\n",
        "                      cf_matrix.flatten()/np.sum(cf_matrix)]\n",
        "  labels = [f\"{v1}\\n{v2}\" for v1, v2 in\n",
        "            zip(group_counts,group_percentages)]\n",
        "  labels = np.asarray(labels).reshape(3,3)\n",
        "  plt.figure(figsize=(6, 4))\n",
        "  sns.heatmap(cf_matrix, annot=labels, fmt='', cmap='Blues', xticklabels = iris.target_names, yticklabels=iris.target_names)\n",
        "  plt.xlabel('Predicted')\n",
        "  plt.ylabel('Actual')\n",
        "  plt.title('Confusion Matrix')\n",
        "  plt.show()\n",
        "  print(\"**********************************************\")\n"
      ]
    },
    {
      "cell_type": "code",
      "execution_count": null,
      "metadata": {
        "id": "7s8KIWMMIjCX"
      },
      "outputs": [],
      "source": [
        "def reports(y_test, y_pred):\n",
        "  from sklearn.metrics import classification_report\n",
        "  plot(y_test, y_pred)\n",
        "  print(\"**********************************************\")\n",
        "  print(\"Classification Evaluation : \")\n",
        "  print(classification_report(y_test, y_pred, zero_division = 0))"
      ]
    },
    {
      "cell_type": "markdown",
      "metadata": {
        "id": "Y2PV8IhU8Rnn"
      },
      "source": [
        "### **SVM CLASSIFIER**"
      ]
    },
    {
      "cell_type": "code",
      "execution_count": null,
      "metadata": {
        "id": "GyOZ6IserwTc"
      },
      "outputs": [],
      "source": [
        "def SVMClassifier(split, kernalValue = 'rbf', degreeValue = 3, gammaValue = 'scale', maxIter = -1):\n",
        "  from sklearn.model_selection import train_test_split\n",
        "  from sklearn.svm import SVC\n",
        "  from sklearn.metrics import accuracy_score\n",
        "  from sklearn.preprocessing import StandardScaler\n",
        "  scaler = StandardScaler()\n",
        "  scaler.fit(X)\n",
        "  X_train, X_test, y_train, y_test = train_test_split(X,y, test_size = split, random_state=44)\n",
        "  classifier = SVC(kernel = kernalValue, degree = degreeValue, gamma = gammaValue, max_iter = maxIter)\n",
        "  classifier.fit(X_train, y_train)\n",
        "  y_pred = classifier.predict(X_test)\n",
        "  accuracy = accuracy_score(y_test, y_pred)\n",
        "\n",
        "  if str(split) in dict_svm:\n",
        "    dict_svm[str(split)] = max(accuracy, dict_svm[str(split)])\n",
        "    if str(split) == '0.3' and accuracy > dict_svm[str(split)]:\n",
        "      RocAucSvm['max'] = {'y_test': y_test, 'y_pred': y_pred}\n",
        "  else:\n",
        "    dict_svm[str(split)] = accuracy\n",
        "    if str(split) == '0.3':\n",
        "      RocAucSvm['max'] = {'y_test': y_test, 'y_pred': y_pred}\n",
        "\n",
        "  reports(y_test, y_pred)\n"
      ]
    },
    {
      "cell_type": "code",
      "execution_count": null,
      "metadata": {
        "colab": {
          "base_uri": "https://localhost:8080/",
          "height": 1000
        },
        "id": "0H9HFb1junU1",
        "outputId": "e7e8d414-509c-4822-ce2e-1b10beddfb0c"
      },
      "outputs": [],
      "source": [
        "#Train - Test split 70-30\n",
        "SVMClassifier(0.3)\n",
        "SVMClassifier(0.3, 'linear')\n",
        "SVMClassifier(0.3, 'poly')\n",
        "SVMClassifier(0.3, 'sigmoid', 3, 0.022)"
      ]
    },
    {
      "cell_type": "code",
      "execution_count": null,
      "metadata": {
        "colab": {
          "base_uri": "https://localhost:8080/",
          "height": 1000
        },
        "id": "jZlK1CQezPNl",
        "outputId": "5a6d4650-0802-49a1-9d1c-1093bcd82072"
      },
      "outputs": [],
      "source": [
        "#Train - Test split 60-40\n",
        "SVMClassifier(0.4, 'rbf', 3, 'auto')\n",
        "SVMClassifier(0.4, 'linear')\n",
        "SVMClassifier(0.4, 'poly')\n",
        "SVMClassifier(0.4, 'sigmoid', 3, 0.023 ) #wrost performance"
      ]
    },
    {
      "cell_type": "code",
      "execution_count": null,
      "metadata": {
        "colab": {
          "base_uri": "https://localhost:8080/",
          "height": 1000
        },
        "id": "_6zMgZM-097W",
        "outputId": "4385f5cb-c367-495c-d3f5-e2b8deeffac1"
      },
      "outputs": [],
      "source": [
        "#Train - Test split 50-50\n",
        "SVMClassifier(0.5, 'rbf', 3, 'auto')\n",
        "SVMClassifier(0.5, 'linear')\n",
        "SVMClassifier(0.5, 'poly')\n",
        "SVMClassifier(0.5, 'sigmoid', 3, 0.022) #wrost performance"
      ]
    },
    {
      "cell_type": "code",
      "execution_count": null,
      "metadata": {
        "colab": {
          "base_uri": "https://localhost:8080/",
          "height": 1000
        },
        "id": "idp3iYvY1XRP",
        "outputId": "1e9714da-4e72-4ee0-b715-f5a1a4d411eb"
      },
      "outputs": [],
      "source": [
        "#Train - Test split 40-60\n",
        "SVMClassifier(0.6, 'rbf', 3, 'auto')\n",
        "SVMClassifier(0.6, 'linear')\n",
        "SVMClassifier(0.6, 'poly')\n",
        "SVMClassifier(0.6, 'sigmoid', 3, 0.015 ) #wrost performance"
      ]
    },
    {
      "cell_type": "code",
      "execution_count": null,
      "metadata": {
        "colab": {
          "base_uri": "https://localhost:8080/",
          "height": 1000
        },
        "id": "rMtr7Usm6lzO",
        "outputId": "457324bc-db77-4b78-cfe1-1ed6f81e75b7"
      },
      "outputs": [],
      "source": [
        "#Train - Test split 30-70\n",
        "SVMClassifier(0.7, 'rbf', 3, 'auto')\n",
        "SVMClassifier(0.7, 'linear')\n",
        "SVMClassifier(0.7, 'poly')\n",
        "SVMClassifier(0.7, 'sigmoid', 3, 2 ) #wrost performance"
      ]
    },
    {
      "cell_type": "markdown",
      "metadata": {},
      "source": [
        "### **split vs accuracy graph**"
      ]
    },
    {
      "cell_type": "code",
      "execution_count": null,
      "metadata": {
        "colab": {
          "base_uri": "https://localhost:8080/",
          "height": 432
        },
        "id": "QRyu5sdJB4_j",
        "outputId": "f93cf4ac-1289-4737-9606-a8f654e3f28f"
      },
      "outputs": [],
      "source": [
        "x_points = [float(key) for key in dict_svm]\n",
        "y_points = [i*100 for i in dict_svm.values()]\n",
        "plt.plot(x_points, y_points)\n",
        "plt.grid(True)\n",
        "plt.show()"
      ]
    },
    {
      "cell_type": "markdown",
      "metadata": {
        "id": "-ianJJO28Urb"
      },
      "source": [
        "### **MLP Classifier**"
      ]
    },
    {
      "cell_type": "code",
      "execution_count": null,
      "metadata": {
        "id": "eTkHSRCP6qp5"
      },
      "outputs": [],
      "source": [
        "def MLPClassifier(split, hiddenLayerSize = [100, ], activationValue = 'relu', solverValue = 'adam'):\n",
        "  from sklearn.model_selection import train_test_split\n",
        "  from sklearn.neural_network import MLPClassifier\n",
        "  from sklearn.metrics import accuracy_score\n",
        "  X_train, X_test, y_train, y_test = train_test_split(X,y,test_size = split, random_state=44)\n",
        "  classifier = MLPClassifier(hidden_layer_sizes = hiddenLayerSize, activation = activationValue, solver = solverValue, random_state = 1)\n",
        "  classifier.fit(X_train, y_train)\n",
        "  y_pred = classifier.predict(X_test)\n",
        "  accuracy = accuracy_score(y_test, y_pred)\n",
        "\n",
        "  if(str(split) in dict_mlp):\n",
        "    dict_mlp[str(split)] = max(accuracy, dict_mlp[str(split)])\n",
        "    if(str(split) == '0.3' and accuracy > dict_svm[str(split)]):\n",
        "      RocAucMlp['max'] = {'y_test': y_test, 'y_pred': y_pred}\n",
        "  else:\n",
        "    dict_mlp[str(split)] = accuracy\n",
        "    RocAucMlp['max'] = {'y_test': y_test, 'y_pred': y_pred}\n",
        "  reports(y_test, y_pred)"
      ]
    },
    {
      "cell_type": "code",
      "execution_count": null,
      "metadata": {
        "colab": {
          "base_uri": "https://localhost:8080/",
          "height": 856
        },
        "id": "0DfYl1Q7-Hpo",
        "outputId": "5f491652-12c4-4a98-f2fa-ffd7a18647d8"
      },
      "outputs": [],
      "source": [
        "#Train - Test split 70-30\n",
        "MLPClassifier(0.3, [30, ])"
      ]
    },
    {
      "cell_type": "code",
      "execution_count": null,
      "metadata": {
        "colab": {
          "base_uri": "https://localhost:8080/",
          "height": 856
        },
        "id": "9kpwE_II_3Ff",
        "outputId": "720dbb7e-343e-4a0c-a51d-f6ada2d52b2b"
      },
      "outputs": [],
      "source": [
        "#Train - Test split 60-40\n",
        "MLPClassifier(0.4, [35, ])"
      ]
    },
    {
      "cell_type": "code",
      "execution_count": null,
      "metadata": {
        "colab": {
          "base_uri": "https://localhost:8080/",
          "height": 856
        },
        "id": "mkPtvYrI_-i0",
        "outputId": "785d5499-3b26-42aa-cd1b-388ca74325c5"
      },
      "outputs": [],
      "source": [
        "#Train - Test split 50-50\n",
        "MLPClassifier(0.5, [35, ])"
      ]
    },
    {
      "cell_type": "code",
      "execution_count": null,
      "metadata": {
        "colab": {
          "base_uri": "https://localhost:8080/",
          "height": 856
        },
        "id": "P0vxmlmxAB0-",
        "outputId": "6d253dd0-4b6b-4211-c436-2625204c9fe7"
      },
      "outputs": [],
      "source": [
        "#Train - Test split 40-60\n",
        "MLPClassifier(0.6, [45, 8])"
      ]
    },
    {
      "cell_type": "code",
      "execution_count": null,
      "metadata": {
        "colab": {
          "base_uri": "https://localhost:8080/",
          "height": 856
        },
        "id": "SaRDFseqARz7",
        "outputId": "5b301cfb-387f-42f7-fa27-8dde518f08d5"
      },
      "outputs": [],
      "source": [
        "#Train - Test split 30-70\n",
        "MLPClassifier(0.7, [50, 10])"
      ]
    },
    {
      "cell_type": "markdown",
      "metadata": {},
      "source": [
        "### **split vs accuracy graph**"
      ]
    },
    {
      "cell_type": "code",
      "execution_count": null,
      "metadata": {
        "colab": {
          "base_uri": "https://localhost:8080/",
          "height": 430
        },
        "id": "MxoooHQb_ys4",
        "outputId": "4b5484b5-3ae4-4fda-a4a4-f5bc3abb0e00"
      },
      "outputs": [],
      "source": [
        "x_points = [float(key) for key in dict_mlp]\n",
        "y_points = [i*100 for i in dict_mlp.values()]\n",
        "plt.plot(x_points, y_points)\n",
        "plt.grid(True)\n",
        "plt.show()"
      ]
    },
    {
      "cell_type": "markdown",
      "metadata": {
        "id": "GgWKbgvzKwg5"
      },
      "source": [
        "### **Random Forest Classifier**"
      ]
    },
    {
      "cell_type": "code",
      "execution_count": null,
      "metadata": {
        "id": "O5eZH7IqK006"
      },
      "outputs": [],
      "source": [
        "def randomForest(split, estimator = 100, criterionValue = 'gini', ):\n",
        "  from sklearn.model_selection import train_test_split\n",
        "  from sklearn.ensemble import RandomForestClassifier\n",
        "  from sklearn.metrics import accuracy_score\n",
        "  from sklearn.preprocessing import StandardScaler\n",
        "  scaler = StandardScaler()\n",
        "  scaler.fit(X)\n",
        "  X_train, X_test, y_train, y_test = train_test_split(X,y, test_size = split, random_state=44)\n",
        "  classifier = RandomForestClassifier(n_estimators = estimator, criterion = criterionValue)\n",
        "  classifier.fit(X_train, y_train)\n",
        "  y_pred = classifier.predict(X_test)\n",
        "  accuracy = accuracy_score(y_test, y_pred)\n",
        "\n",
        "  if(str(split) in dict_rfr):\n",
        "    dict_rfr[str(split)] = max(accuracy, dict_rfr[str(split)])\n",
        "    if(str(split) == '0.3' and accuracy > dict_svm[str(split)]):\n",
        "      RocAucRfr['max'] = {'y_test': y_test, 'y_pred': y_pred}\n",
        "  else:\n",
        "    dict_rfr[str(split)] = accuracy\n",
        "    if(str(split) == '0.3'):\n",
        "      RocAucRfr['max'] = {'y_test': y_test, 'y_pred': y_pred}\n",
        "\n",
        "  reports(y_test, y_pred)\n"
      ]
    },
    {
      "cell_type": "code",
      "execution_count": null,
      "metadata": {
        "colab": {
          "base_uri": "https://localhost:8080/",
          "height": 800
        },
        "id": "fqEArsDfLp_z",
        "outputId": "713e8ae7-d068-4701-94f3-65fe839f30d3"
      },
      "outputs": [],
      "source": [
        "randomForest(0.3)"
      ]
    },
    {
      "cell_type": "code",
      "execution_count": null,
      "metadata": {
        "colab": {
          "base_uri": "https://localhost:8080/",
          "height": 800
        },
        "id": "AuoXQMIPLwUP",
        "outputId": "ac6d096b-cd17-4edc-ecb1-5f708f804512"
      },
      "outputs": [],
      "source": [
        "randomForest(0.4)"
      ]
    },
    {
      "cell_type": "code",
      "execution_count": null,
      "metadata": {
        "colab": {
          "base_uri": "https://localhost:8080/",
          "height": 800
        },
        "id": "ctjF7CDzLzPd",
        "outputId": "3f998971-e45c-4e59-bec8-220d55276c97"
      },
      "outputs": [],
      "source": [
        "randomForest(0.5)"
      ]
    },
    {
      "cell_type": "code",
      "execution_count": null,
      "metadata": {
        "colab": {
          "base_uri": "https://localhost:8080/",
          "height": 800
        },
        "id": "H1aklsWJL1d9",
        "outputId": "a093c7fc-5471-4c1a-b5a9-cf9e62be47e0"
      },
      "outputs": [],
      "source": [
        "randomForest(0.6, 100, 'entropy')"
      ]
    },
    {
      "cell_type": "code",
      "execution_count": null,
      "metadata": {
        "colab": {
          "base_uri": "https://localhost:8080/",
          "height": 800
        },
        "id": "5yfFMa-GMJ9r",
        "outputId": "fc28fc1c-90b4-4d78-aa83-1dc050098601"
      },
      "outputs": [],
      "source": [
        "randomForest(0.7, 120)"
      ]
    },
    {
      "cell_type": "markdown",
      "metadata": {},
      "source": [
        "### **split vs accuracy graph**"
      ]
    },
    {
      "cell_type": "code",
      "execution_count": null,
      "metadata": {
        "colab": {
          "base_uri": "https://localhost:8080/",
          "height": 435
        },
        "id": "-MbXuNtcMzyC",
        "outputId": "24594a6b-73d5-42e6-8424-bf16ec6daff9"
      },
      "outputs": [],
      "source": [
        "x_points = [float(key) for key in dict_rfr]\n",
        "y_points = [i*100 for i in dict_rfr.values()]\n",
        "plt.plot(x_points, y_points)\n",
        "plt.grid(True)\n",
        "plt.show()"
      ]
    },
    {
      "cell_type": "markdown",
      "metadata": {},
      "source": [
        "### **ROC curve and ROC_AUC score for all the classifier having maximum accuracy when train test split 70-30.**"
      ]
    },
    {
      "cell_type": "code",
      "execution_count": null,
      "metadata": {},
      "outputs": [],
      "source": [
        "from sklearn import metrics\n",
        "def auc_roc():\n",
        "    fpr1, tpr1, _1 = metrics.roc_curve(RocAucSvm['max']['y_test'], RocAucSvm['max']['y_pred'], pos_label=1)\n",
        "    fpr2, tpr2, _2 = metrics.roc_curve(RocAucMlp['max']['y_test'], RocAucMlp['max']['y_pred'], pos_label=1)\n",
        "    fpr3, tpr3, _3 = metrics.roc_curve(RocAucRfr['max']['y_test'], RocAucRfr['max']['y_pred'], pos_label=1)\n",
        "    plt.plot(fpr1, tpr1, linestyle='--', linewidth=2, color='orange', marker='o', markersize=6, label='SVM')\n",
        "    plt.plot(fpr2, tpr2, linestyle='dotted', linewidth=2, color='green', marker='s', markersize=6, label='MLP')\n",
        "    plt.plot(fpr3, tpr3, linestyle=':', linewidth=2, color='blue', marker='^', markersize=6, label='Random Forest')\n",
        "    plt.title('ROC curve')\n",
        "    # x label\n",
        "    plt.xlabel('False Positive Rate')\n",
        "    # y label\n",
        "    plt.ylabel('True Positive rate')\n",
        "\n",
        "    plt.legend(loc='best')\n",
        "    plt.savefig('ROC',dpi=300)\n",
        "    plt.show()\n",
        "auc_roc()"
      ]
    }
  ],
  "metadata": {
    "colab": {
      "provenance": []
    },
    "kernelspec": {
      "display_name": "Python 3",
      "name": "python3"
    },
    "language_info": {
      "codemirror_mode": {
        "name": "ipython",
        "version": 3
      },
      "file_extension": ".py",
      "mimetype": "text/x-python",
      "name": "python",
      "nbconvert_exporter": "python",
      "pygments_lexer": "ipython3",
      "version": "3.10.4"
    }
  },
  "nbformat": 4,
  "nbformat_minor": 0
}
