{
  "cells": [
    {
      "cell_type": "code",
      "execution_count": null,
      "metadata": {
        "id": "eBta7g9QCC0k"
      },
      "outputs": [],
      "source": []
    },
    {
      "cell_type": "markdown",
      "metadata": {
        "id": "fTb-OmJWDf-A"
      },
      "source": [
        "### **IONOSPHERE Dataset classification using SVM, MLP and Random Forest classifier**"
      ]
    },
    {
      "cell_type": "code",
      "execution_count": null,
      "metadata": {
        "id": "sMV-c4Y4qrZM"
      },
      "outputs": [],
      "source": []
    },
    {
      "cell_type": "code",
      "execution_count": null,
      "metadata": {
        "id": "y5XyFFstIc7y"
      },
      "outputs": [],
      "source": [
        "import numpy as np\n",
        "import pandas as pd\n",
        "import matplotlib.pyplot as plt"
      ]
    },
    {
      "cell_type": "code",
      "execution_count": null,
      "metadata": {
        "id": "2vmzqZASIf0z"
      },
      "outputs": [],
      "source": [
        "\n",
        "url = 'https://raw.githubusercontent.com/Aqeel-0/phone.html/master/ionosphere_data.csv'\n",
        "df = pd.read_csv(url)\n",
        "df.head()\n",
        "#column_names = list(df.columns.values)"
      ]
    },
    {
      "cell_type": "markdown",
      "metadata": {},
      "source": [
        "### **Pre Preprocessing**"
      ]
    },
    {
      "cell_type": "code",
      "execution_count": null,
      "metadata": {
        "colab": {
          "base_uri": "https://localhost:8080/"
        },
        "id": "9jIfW5EIIgnH",
        "outputId": "02510893-79d5-4b23-9caa-b70fd754ca9a"
      },
      "outputs": [],
      "source": [
        "from sklearn.preprocessing import LabelEncoder\n",
        "X = df.iloc[:, 0:-1]\n",
        "y = df.iloc[: , -1]\n",
        "le = LabelEncoder()\n",
        "encoded = le.fit_transform(df['column_ai'])\n",
        "df.drop(\"column_ai\", axis=1, inplace=True)\n",
        "df[\"column_ai\"] = encoded\n",
        "y = df[\"column_ai\"]\n",
        "dict_svm = {}\n",
        "dict_mlp = {}\n",
        "dict_rfr = {}\n",
        "RocAucSvm = {}\n",
        "RocAucMlp = {}\n",
        "RocAucRfr = {}\n",
        "y.info(), X.info()\n",
        "y.value_counts()\n"
      ]
    },
    {
      "cell_type": "markdown",
      "metadata": {},
      "source": [
        "### **Used for ploting confusion matrix**"
      ]
    },
    {
      "cell_type": "code",
      "execution_count": null,
      "metadata": {},
      "outputs": [],
      "source": [
        "def plot(y_test, y_pred):\n",
        "  from sklearn.metrics import confusion_matrix  \n",
        "  import seaborn as sns\n",
        "  \n",
        "  print(\"Confusion Matrix : \")\n",
        "  cf_matrix = confusion_matrix(y_test, y_pred)\n",
        "  group_names = ['True Pos','False Pos','False Neg','True neg']\n",
        "  group_counts = [\"{0:0.0f}\".format(value) for value in\n",
        "                  cf_matrix.flatten()]\n",
        "  group_percentages = [\"{0:.2%}\".format(value) for value in\n",
        "                      cf_matrix.flatten()/np.sum(cf_matrix)]\n",
        "  labels = [f\"{v1}\\n{v2}\\n{v3}\" for v1, v2, v3 in\n",
        "            zip(group_names,group_counts,group_percentages)]\n",
        "  labels = np.asarray(labels).reshape(2,2)\n",
        "  plt.figure(figsize=(6, 4))\n",
        "  sns.heatmap(cf_matrix, annot=labels, fmt='', cmap='Blues', xticklabels=['Good', 'Bad'], yticklabels=['Good', 'Bad'])\n",
        "  plt.xlabel('Predicted')\n",
        "  plt.ylabel('Actual')\n",
        "  plt.title('Confusion Matrix')\n",
        "  plt.show()\n",
        "  print(\"**********************************************\")\n"
      ]
    },
    {
      "cell_type": "code",
      "execution_count": null,
      "metadata": {
        "id": "7s8KIWMMIjCX"
      },
      "outputs": [],
      "source": [
        "def reports(y_test, y_pred):\n",
        "  from sklearn.metrics import classification_report, confusion_matrix\n",
        "  plot(y_test, y_pred)\n",
        "  print(\"**********************************************\")\n",
        "  print(\"Classification Evaluation : \")\n",
        "  print(classification_report(y_test, y_pred, zero_division = 0))"
      ]
    },
    {
      "cell_type": "markdown",
      "metadata": {
        "id": "Y2PV8IhU8Rnn"
      },
      "source": [
        "### **SVM CLASSIFIER**"
      ]
    },
    {
      "cell_type": "code",
      "execution_count": null,
      "metadata": {
        "id": "GyOZ6IserwTc"
      },
      "outputs": [],
      "source": [
        "def SVMClassifier(split, kernalValue = 'rbf', degreeValue = 3, gammaValue = 'scale', maxIter = -1):\n",
        "  from sklearn.model_selection import train_test_split\n",
        "  from sklearn.svm import SVC\n",
        "  from sklearn.metrics import accuracy_score\n",
        "  from sklearn.preprocessing import StandardScaler\n",
        "  scaler = StandardScaler()\n",
        "  X_train, X_test, y_train, y_test = train_test_split(X,y,test_size = split, random_state=44)\n",
        "  scaler.fit_transform(X_train)\n",
        "  scaler.transform(X_test)\n",
        "  classifier = SVC(kernel = kernalValue, degree = degreeValue, gamma = gammaValue, max_iter = maxIter)\n",
        "  classifier.fit(X_train, y_train)\n",
        "  y_pred = classifier.predict(X_test)\n",
        "  accuracy = accuracy_score(y_test, y_pred)\n",
        "\n",
        "  if str(split) in dict_svm:\n",
        "    dict_svm[str(split)] = max(accuracy, dict_svm[str(split)])\n",
        "    if str(split) == '0.3' and accuracy > dict_svm[str(split)]:\n",
        "      RocAucSvm['max'] = {'y_test': y_test, 'y_pred': y_pred}\n",
        "  else:\n",
        "    dict_svm[str(split)] = accuracy\n",
        "    if str(split) == '0.3':\n",
        "      RocAucSvm['max'] = {'y_test': y_test, 'y_pred': y_pred}\n",
        "  reports(y_test, y_pred)\n",
        "\n"
      ]
    },
    {
      "cell_type": "code",
      "execution_count": null,
      "metadata": {
        "colab": {
          "base_uri": "https://localhost:8080/",
          "height": 1000
        },
        "id": "0H9HFb1junU1",
        "outputId": "0877bf40-ff68-41b7-a8fe-c1cc72bf21fc"
      },
      "outputs": [],
      "source": [
        "#Train - Test split 70-30\n",
        "SVMClassifier(0.3, 'rbf', 3, 0.42)\n",
        "SVMClassifier(0.3, 'linear', 3, 0.1)\n",
        "SVMClassifier(0.3, 'poly', 5, )\n",
        "SVMClassifier(0.3, 'sigmoid',3, 0.01)"
      ]
    },
    {
      "cell_type": "code",
      "execution_count": null,
      "metadata": {
        "colab": {
          "base_uri": "https://localhost:8080/",
          "height": 1000
        },
        "id": "jZlK1CQezPNl",
        "outputId": "1dd5faba-b402-4293-8c2a-767c2a15570a"
      },
      "outputs": [],
      "source": [
        "#Train - Test split 60-40\n",
        "SVMClassifier(0.4, 'rbf', 3, 0.31)\n",
        "SVMClassifier(0.4, 'linear', 3, 0.01)\n",
        "SVMClassifier(0.4, 'poly', 5, )\n",
        "SVMClassifier(0.4, 'sigmoid', 3, 0.01)"
      ]
    },
    {
      "cell_type": "code",
      "execution_count": null,
      "metadata": {
        "colab": {
          "base_uri": "https://localhost:8080/",
          "height": 1000
        },
        "id": "_6zMgZM-097W",
        "outputId": "c869798b-65bb-42d6-9815-1372f74eb6cc"
      },
      "outputs": [],
      "source": [
        "#Train - Test split 50-50\n",
        "SVMClassifier(0.5, 'rbf', 3, 0.18)\n",
        "SVMClassifier(0.5, 'linear', 3, )\n",
        "SVMClassifier(0.5, 'poly', 4, )\n",
        "SVMClassifier(0.5, 'sigmoid', 3, 0.09 ) #wrost performance"
      ]
    },
    {
      "cell_type": "code",
      "execution_count": null,
      "metadata": {
        "colab": {
          "base_uri": "https://localhost:8080/",
          "height": 1000
        },
        "id": "idp3iYvY1XRP",
        "outputId": "5cbf13de-d0ef-4928-8af3-9fad1c93d660"
      },
      "outputs": [],
      "source": [
        "#Train - Test split 40-60\n",
        "SVMClassifier(0.6, 'rbf', 3, 0.51)\n",
        "SVMClassifier(0.6, 'linear', 3, )\n",
        "SVMClassifier(0.6, 'poly', 2, 0.14)\n",
        "SVMClassifier(0.6, 'sigmoid', 3,) #wrost performance"
      ]
    },
    {
      "cell_type": "code",
      "execution_count": null,
      "metadata": {
        "colab": {
          "base_uri": "https://localhost:8080/",
          "height": 1000
        },
        "id": "rMtr7Usm6lzO",
        "outputId": "eb590d7b-0bd8-463a-fde4-dc0ba14a74a5"
      },
      "outputs": [],
      "source": [
        "#Train - Test split 30-70\n",
        "SVMClassifier(0.7, 'rbf', 3, 0.64)\n",
        "SVMClassifier(0.7, 'linear')\n",
        "SVMClassifier(0.7, 'poly', 2,)\n",
        "SVMClassifier(0.7, 'sigmoid' ) #wrost performance"
      ]
    },
    {
      "cell_type": "markdown",
      "metadata": {},
      "source": [
        "### **split vs accuracy graph**"
      ]
    },
    {
      "cell_type": "code",
      "execution_count": null,
      "metadata": {
        "colab": {
          "base_uri": "https://localhost:8080/",
          "height": 430
        },
        "id": "QRyu5sdJB4_j",
        "outputId": "8d24db05-d58b-45a6-c3e0-502be7ca5d8f"
      },
      "outputs": [],
      "source": [
        "x_points = [float(key) for key in dict_svm]\n",
        "y_points = [i*100 for i in dict_svm.values()]\n",
        "plt.plot(x_points, y_points)\n",
        "plt.grid(True)\n",
        "plt.show()"
      ]
    },
    {
      "cell_type": "markdown",
      "metadata": {
        "id": "-ianJJO28Urb"
      },
      "source": [
        "### **MLP Classifier**"
      ]
    },
    {
      "cell_type": "code",
      "execution_count": null,
      "metadata": {
        "id": "eTkHSRCP6qp5"
      },
      "outputs": [],
      "source": [
        "def MLPClassifier(split, hiddenLayerSize = [100, ], activationValue = 'relu', solverValue = 'adam'):\n",
        "  from sklearn.model_selection import train_test_split\n",
        "  from sklearn.neural_network import MLPClassifier\n",
        "  from sklearn.metrics import accuracy_score\n",
        "  from sklearn.preprocessing import StandardScaler\n",
        "  scaler = StandardScaler()\n",
        "  X_train, X_test, y_train, y_test = train_test_split(X,y,test_size = split, random_state=44)\n",
        "  scaler.fit_transform(X_train)\n",
        "  scaler.transform(X_test)\n",
        "  classifier = MLPClassifier(hidden_layer_sizes = hiddenLayerSize, activation = activationValue, solver = solverValue, random_state = 1)\n",
        "  classifier.fit(X_train, y_train)\n",
        "  y_pred = classifier.predict(X_test)\n",
        "  accuracy = accuracy_score(y_test, y_pred)\n",
        "  if(str(split) in dict_mlp):\n",
        "    dict_mlp[str(split)] = max(accuracy, dict_mlp[str(split)])\n",
        "    if(str(split) == '0.3' and accuracy > dict_svm[str(split)]):\n",
        "      RocAucMlp['max'] = {'y_test': y_test, 'y_pred': y_pred}\n",
        "  else:\n",
        "    dict_mlp[str(split)] = accuracy\n",
        "    RocAucMlp['max'] = {'y_test': y_test, 'y_pred': y_pred}\n",
        "  \n",
        "  reports(y_test, y_pred)"
      ]
    },
    {
      "cell_type": "code",
      "execution_count": null,
      "metadata": {
        "colab": {
          "base_uri": "https://localhost:8080/",
          "height": 856
        },
        "id": "0DfYl1Q7-Hpo",
        "outputId": "8d205711-7271-4dd2-bb84-53ebb0bec76f"
      },
      "outputs": [],
      "source": [
        "#Train - Test split 70-30\n",
        "MLPClassifier(0.3, [80, 20])"
      ]
    },
    {
      "cell_type": "code",
      "execution_count": null,
      "metadata": {
        "colab": {
          "base_uri": "https://localhost:8080/",
          "height": 856
        },
        "id": "9kpwE_II_3Ff",
        "outputId": "5ea6c5dd-5a24-43ab-f299-447d7730b29e"
      },
      "outputs": [],
      "source": [
        "#Train - Test split 60-40\n",
        "MLPClassifier(0.4, [80, 15])"
      ]
    },
    {
      "cell_type": "code",
      "execution_count": null,
      "metadata": {
        "colab": {
          "base_uri": "https://localhost:8080/",
          "height": 856
        },
        "id": "mkPtvYrI_-i0",
        "outputId": "fd0655b0-c6e0-487a-fdc9-2a5fb918e0bb"
      },
      "outputs": [],
      "source": [
        "#Train - Test split 50-50\n",
        "MLPClassifier(0.5, [80, 15])"
      ]
    },
    {
      "cell_type": "code",
      "execution_count": null,
      "metadata": {
        "colab": {
          "base_uri": "https://localhost:8080/",
          "height": 856
        },
        "id": "P0vxmlmxAB0-",
        "outputId": "a2f5bffa-25f4-44c2-db66-cd8a01bfc4d7"
      },
      "outputs": [],
      "source": [
        "#Train - Test split 40-60\n",
        "MLPClassifier(0.6, [80, 46])"
      ]
    },
    {
      "cell_type": "code",
      "execution_count": null,
      "metadata": {
        "colab": {
          "base_uri": "https://localhost:8080/",
          "height": 856
        },
        "id": "SaRDFseqARz7",
        "outputId": "03afc881-f724-4bc8-dceb-3b34a8fa557f"
      },
      "outputs": [],
      "source": [
        "#Train - Test split 30-70\n",
        "MLPClassifier(0.7, [50, 22])"
      ]
    },
    {
      "cell_type": "markdown",
      "metadata": {},
      "source": [
        "### **split vs accuracy graph**"
      ]
    },
    {
      "cell_type": "code",
      "execution_count": null,
      "metadata": {
        "colab": {
          "base_uri": "https://localhost:8080/",
          "height": 430
        },
        "id": "4EMRf6wCAXkR",
        "outputId": "754b2b96-6846-4be8-d54e-fcfba54e102c"
      },
      "outputs": [],
      "source": [
        "x_points = [float(key) for key in dict_mlp]\n",
        "y_points = [i*100 for i in dict_mlp.values()]\n",
        "plt.plot(x_points, y_points)\n",
        "plt.grid(True)\n",
        "plt.show()"
      ]
    },
    {
      "cell_type": "code",
      "execution_count": null,
      "metadata": {
        "id": "O5eZH7IqK006"
      },
      "outputs": [],
      "source": [
        "def randomForest(split, estimator = 100, criterionValue = 'gini', ):\n",
        "  from sklearn.model_selection import train_test_split\n",
        "  from sklearn.ensemble import RandomForestClassifier\n",
        "  from sklearn.metrics import accuracy_score\n",
        "  from sklearn.preprocessing import StandardScaler\n",
        "  scaler = StandardScaler()\n",
        "  X_train, X_test, y_train, y_test = train_test_split(X,y,test_size = split, random_state=44)\n",
        "  scaler.fit_transform(X_train)\n",
        "  scaler.transform(X_test)\n",
        "  classifier = RandomForestClassifier(n_estimators = estimator, criterion = criterionValue)\n",
        "  classifier.fit(X_train, y_train)\n",
        "  y_pred = classifier.predict(X_test)\n",
        "  accuracy = accuracy_score(y_test, y_pred)\n",
        "\n",
        "  if(str(split) in dict_rfr):\n",
        "    dict_rfr[str(split)] = max(accuracy, dict_rfr[str(split)])\n",
        "    if(str(split) == '0.3' and accuracy > dict_svm[str(split)]):\n",
        "      RocAucRfr['max'] = {'y_test': y_test, 'y_pred': y_pred}\n",
        "  else:\n",
        "    dict_rfr[str(split)] = accuracy\n",
        "    if(str(split) == '0.3'):\n",
        "      RocAucRfr['max'] = {'y_test': y_test, 'y_pred': y_pred}\n",
        "\n",
        "  reports(y_test, y_pred)\n"
      ]
    },
    {
      "cell_type": "code",
      "execution_count": null,
      "metadata": {
        "colab": {
          "base_uri": "https://localhost:8080/",
          "height": 782
        },
        "id": "fqEArsDfLp_z",
        "outputId": "d7fe0060-4e56-4053-d45b-446854aa3e87"
      },
      "outputs": [],
      "source": [
        "randomForest(0.3, 170)\n",
        "randomForest(0.3, 205, 'entropy')"
      ]
    },
    {
      "cell_type": "code",
      "execution_count": null,
      "metadata": {
        "colab": {
          "base_uri": "https://localhost:8080/",
          "height": 782
        },
        "id": "AuoXQMIPLwUP",
        "outputId": "636a673f-5446-4e6e-e060-3e72f6233e3e"
      },
      "outputs": [],
      "source": [
        "randomForest(0.4, 70)\n",
        "randomForest(0.4, 80, 'entropy')"
      ]
    },
    {
      "cell_type": "code",
      "execution_count": null,
      "metadata": {
        "colab": {
          "base_uri": "https://localhost:8080/",
          "height": 782
        },
        "id": "ctjF7CDzLzPd",
        "outputId": "68275759-087d-4497-b573-82cb245ed259"
      },
      "outputs": [],
      "source": [
        "randomForest(0.5, 66)\n",
        "randomForest(0.5, 140, 'entropy')"
      ]
    },
    {
      "cell_type": "code",
      "execution_count": null,
      "metadata": {
        "colab": {
          "base_uri": "https://localhost:8080/",
          "height": 782
        },
        "id": "H1aklsWJL1d9",
        "outputId": "f117effd-9637-493a-843c-5fab4d95174b"
      },
      "outputs": [],
      "source": [
        "randomForest(0.6, )\n",
        "randomForest(0.6, 100, 'entropy')"
      ]
    },
    {
      "cell_type": "code",
      "execution_count": null,
      "metadata": {
        "colab": {
          "base_uri": "https://localhost:8080/",
          "height": 782
        },
        "id": "5yfFMa-GMJ9r",
        "outputId": "5b3f6d35-f361-4eb7-9f69-c5ddc0a1d5e4"
      },
      "outputs": [],
      "source": [
        "randomForest(0.7, 120)\n",
        "randomForest(0.4, 80, 'entropy')"
      ]
    },
    {
      "cell_type": "markdown",
      "metadata": {},
      "source": [
        "### **split vs accuracy graph**"
      ]
    },
    {
      "cell_type": "code",
      "execution_count": null,
      "metadata": {
        "colab": {
          "base_uri": "https://localhost:8080/",
          "height": 430
        },
        "id": "-MbXuNtcMzyC",
        "outputId": "3ed19b0d-afbe-4e9d-bb3f-bb6b79588e65"
      },
      "outputs": [],
      "source": [
        "x_points = [float(key) for key in dict_rfr]\n",
        "y_points = [i*100 for i in dict_rfr.values()]\n",
        "plt.plot(x_points, y_points)\n",
        "plt.grid(True)\n",
        "plt.show()"
      ]
    },
    {
      "cell_type": "markdown",
      "metadata": {},
      "source": [
        "### **ROC curve and ROC_AUC score for all the classifier having maximum accuracy when train test split 70-30.**"
      ]
    },
    {
      "cell_type": "code",
      "execution_count": null,
      "metadata": {},
      "outputs": [],
      "source": [
        "from sklearn import metrics\n",
        "def auc_roc():\n",
        "    fpr1, tpr1, _1 = metrics.roc_curve(RocAucSvm['max']['y_test'], RocAucSvm['max']['y_pred'], pos_label=1)\n",
        "    fpr2, tpr2, _2 = metrics.roc_curve(RocAucMlp['max']['y_test'], RocAucMlp['max']['y_pred'], pos_label=1)\n",
        "    fpr3, tpr3, _3 = metrics.roc_curve(RocAucRfr['max']['y_test'], RocAucRfr['max']['y_pred'], pos_label=1)\n",
        "    plt.plot(fpr1, tpr1, linestyle='--',color='orange', label='SVM')\n",
        "    plt.plot(fpr2, tpr2, linestyle='--',color='green', label='MLP')\n",
        "    plt.plot(fpr3, tpr3, linestyle='--', color='blue', label= 'Random Forest')\n",
        "    plt.title('ROC curve')\n",
        "    # x label\n",
        "    plt.xlabel('False Positive Rate')\n",
        "    # y label\n",
        "    plt.ylabel('True Positive rate')\n",
        "\n",
        "    plt.legend(loc='best')\n",
        "    plt.savefig('ROC',dpi=300)\n",
        "    plt.show()\n",
        "auc_roc()"
      ]
    }
  ],
  "metadata": {
    "colab": {
      "provenance": []
    },
    "kernelspec": {
      "display_name": "Python 3",
      "name": "python3"
    },
    "language_info": {
      "codemirror_mode": {
        "name": "ipython",
        "version": 3
      },
      "file_extension": ".py",
      "mimetype": "text/x-python",
      "name": "python",
      "nbconvert_exporter": "python",
      "pygments_lexer": "ipython3",
      "version": "3.10.4"
    }
  },
  "nbformat": 4,
  "nbformat_minor": 0
}
