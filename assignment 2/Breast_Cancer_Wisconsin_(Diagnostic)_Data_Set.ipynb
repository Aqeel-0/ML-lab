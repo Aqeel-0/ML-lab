{
  "cells": [
    {
      "cell_type": "markdown",
      "metadata": {
        "id": "QwPaO2tsJIAg"
      },
      "source": [
        "\n",
        "### **Breast Cancer Wisconsin (Diagnostic) Dataset classification using SVM, MLP and Random Forest classifier**"
      ]
    },
    {
      "cell_type": "code",
      "execution_count": null,
      "metadata": {
        "id": "y5XyFFstIc7y"
      },
      "outputs": [],
      "source": [
        "import numpy as np\n",
        "import pandas as pd\n",
        "import matplotlib.pyplot as plt"
      ]
    },
    {
      "cell_type": "code",
      "execution_count": null,
      "metadata": {
        "colab": {
          "base_uri": "https://localhost:8080/",
          "height": 317
        },
        "id": "2vmzqZASIf0z",
        "outputId": "f054fdba-d283-4239-c0b0-67997051ae55"
      },
      "outputs": [],
      "source": [
        "url = 'https://raw.githubusercontent.com/Aqeel-0/phone.html/master/data.csv'\n",
        "df = pd.read_csv(url)\n",
        "df.head()"
      ]
    },
    {
      "cell_type": "markdown",
      "metadata": {
        "id": "ixNb4a9tJAlh"
      },
      "source": [
        "### **Pre Preprocessing**"
      ]
    },
    {
      "cell_type": "code",
      "execution_count": null,
      "metadata": {
        "colab": {
          "base_uri": "https://localhost:8080/"
        },
        "id": "__bvE8JcGRUS",
        "outputId": "12726150-dc9c-4116-d196-465762397366"
      },
      "outputs": [],
      "source": [
        "from sklearn.preprocessing import LabelEncoder\n",
        "X = df.drop(['id', 'diagnosis', 'Unnamed: 32'], axis=1)\n",
        "X.info()\n",
        "le = LabelEncoder()\n",
        "encoded = le.fit_transform(df['diagnosis'])\n",
        "df.drop(\"diagnosis\", axis=1, inplace=True)\n",
        "df[\"diagnosis\"] = encoded\n",
        "y = df[\"diagnosis\"]\n",
        "y.info()\n",
        "dict_svm = {}\n",
        "dict_mlp = {}\n",
        "dict_rfr = {}\n",
        "RocAucSvm = {}\n",
        "RocAucMlp = {}\n",
        "RocAucRfr = {}\n"
      ]
    },
    {
      "cell_type": "markdown",
      "metadata": {},
      "source": [
        "### **Used for ploting confusion matrix**"
      ]
    },
    {
      "cell_type": "code",
      "execution_count": null,
      "metadata": {},
      "outputs": [],
      "source": [
        "def plot(y_test, y_pred):\n",
        "  from sklearn.metrics import confusion_matrix  \n",
        "  import seaborn as sns\n",
        "\n",
        "  print(\"Confusion Matrix : \")\n",
        "  cf_matrix = confusion_matrix(y_test, y_pred)\n",
        "  group_names = ['True Pos','False Pos','False Neg','True neg']\n",
        "  group_counts = [\"{0:0.0f}\".format(value) for value in\n",
        "                  cf_matrix.flatten()]\n",
        "  group_percentages = [\"{0:.2%}\".format(value) for value in\n",
        "                      cf_matrix.flatten()/np.sum(cf_matrix)]\n",
        "  labels = [f\"{v1}\\n{v2}\\n{v3}\" for v1, v2, v3 in\n",
        "            zip(group_names,group_counts,group_percentages)]\n",
        "  labels = np.asarray(labels).reshape(2,2)\n",
        "  plt.figure(figsize=(6, 4))\n",
        "  sns.heatmap(cf_matrix, annot=labels, fmt='', cmap='Blues', xticklabels=['Benign', 'Malignant'], yticklabels=['Benign', 'Malignant'])\n",
        "  plt.xlabel('Predicted')\n",
        "  plt.ylabel('Actual')\n",
        "  plt.title('Confusion Matrix')\n",
        "  plt.show()\n",
        "  print(\"**********************************************\")\n"
      ]
    },
    {
      "cell_type": "code",
      "execution_count": null,
      "metadata": {
        "id": "7s8KIWMMIjCX"
      },
      "outputs": [],
      "source": [
        "def reports(y_test, y_pred):\n",
        "  from sklearn.metrics import classification_report\n",
        "  plot(y_test, y_pred)\n",
        "  print(\"**********************************************\")\n",
        "  print(\"Classification Evaluation : \")\n",
        "  print(classification_report(y_test, y_pred, zero_division = 0))"
      ]
    },
    {
      "cell_type": "markdown",
      "metadata": {
        "id": "w55W36afJMQr"
      },
      "source": [
        "### **SVMClassifier**"
      ]
    },
    {
      "cell_type": "code",
      "execution_count": null,
      "metadata": {
        "id": "GyOZ6IserwTc"
      },
      "outputs": [],
      "source": [
        "def SVMClassifier(split, kernalValue = 'rbf', degreeValue = 3, gammaValue = 'scale', maxIter = -1):\n",
        "  from sklearn.model_selection import train_test_split\n",
        "  from sklearn.svm import SVC\n",
        "  from sklearn.metrics import accuracy_score\n",
        "  from sklearn.preprocessing import StandardScaler\n",
        "  scaler = StandardScaler()\n",
        "  X_train, X_test, y_train, y_test = train_test_split(X,y,test_size = split, random_state=44)\n",
        "  scaler.fit_transform(X_train)\n",
        "  scaler.transform(X_test)\n",
        "  classifier = SVC(kernel = kernalValue, degree = degreeValue, gamma = gammaValue, max_iter = maxIter)\n",
        "  classifier.fit(X_train, y_train)\n",
        "  y_pred = classifier.predict(X_test)\n",
        "  accuracy = accuracy_score(y_test, y_pred)\n",
        "\n",
        "  if str(split) in dict_svm:\n",
        "    dict_svm[str(split)] = max(accuracy, dict_svm[str(split)])\n",
        "    if str(split) == '0.3' and accuracy > dict_svm[str(split)]:\n",
        "      RocAucSvm['max'] = {'y_test': y_test, 'y_pred': y_pred}\n",
        "  else:\n",
        "    dict_svm[str(split)] = accuracy\n",
        "    if str(split) == '0.3':\n",
        "      RocAucSvm['max'] = {'y_test': y_test, 'y_pred': y_pred}\n",
        "  reports(y_test, y_pred)\n",
        "\n"
      ]
    },
    {
      "cell_type": "code",
      "execution_count": null,
      "metadata": {
        "colab": {
          "base_uri": "https://localhost:8080/",
          "height": 1000
        },
        "id": "0H9HFb1junU1",
        "outputId": "3f9a1dc2-6377-47c9-9558-dc52b7d4efe7"
      },
      "outputs": [],
      "source": [
        "#Train - Test split 70-30\n",
        "SVMClassifier(0.3, 'rbf', 3)\n",
        "SVMClassifier(0.3, 'linear', 3,)\n",
        "SVMClassifier(0.3, 'poly', 2, )\n",
        "SVMClassifier(0.3, 'sigmoid', 3, 0.01)"
      ]
    },
    {
      "cell_type": "code",
      "execution_count": null,
      "metadata": {
        "colab": {
          "base_uri": "https://localhost:8080/",
          "height": 1000
        },
        "id": "jZlK1CQezPNl",
        "outputId": "1ee4d5e7-83c7-4e74-f5a6-076a8e198480"
      },
      "outputs": [],
      "source": [
        "#Train - Test split 60-40\n",
        "SVMClassifier(0.4, 'rbf', 3,)\n",
        "SVMClassifier(0.4, 'linear', 3,)\n",
        "SVMClassifier(0.4, 'poly', 5, )\n",
        "SVMClassifier(0.4, 'sigmoid', 3, 0.1)"
      ]
    },
    {
      "cell_type": "code",
      "execution_count": null,
      "metadata": {
        "colab": {
          "base_uri": "https://localhost:8080/",
          "height": 1000
        },
        "id": "_6zMgZM-097W",
        "outputId": "60990a03-c08e-4820-9529-96ff99f00bb8"
      },
      "outputs": [],
      "source": [
        "#Train - Test split 50-50\n",
        "SVMClassifier(0.5, 'rbf', 3,)\n",
        "SVMClassifier(0.5, 'linear', 3, )\n",
        "SVMClassifier(0.5, 'poly', 4, )\n",
        "SVMClassifier(0.5, 'sigmoid', 3, 0.3 ) #wrost performance"
      ]
    },
    {
      "cell_type": "code",
      "execution_count": null,
      "metadata": {
        "colab": {
          "base_uri": "https://localhost:8080/",
          "height": 1000
        },
        "id": "idp3iYvY1XRP",
        "outputId": "b25ae465-1076-40eb-dc8a-590dadc430d6"
      },
      "outputs": [],
      "source": [
        "#Train - Test split 40-60\n",
        "SVMClassifier(0.6, 'rbf', 3,)\n",
        "SVMClassifier(0.6, 'linear', 3, )\n",
        "SVMClassifier(0.6, 'poly', 2, 0.14)\n",
        "SVMClassifier(0.6, 'sigmoid', 3, 0.2) #wrost performance"
      ]
    },
    {
      "cell_type": "code",
      "execution_count": null,
      "metadata": {
        "colab": {
          "base_uri": "https://localhost:8080/",
          "height": 1000
        },
        "id": "rMtr7Usm6lzO",
        "outputId": "1164c4c7-b107-47a9-d31d-d53e9159edf0"
      },
      "outputs": [],
      "source": [
        "#Train - Test split 30-70\n",
        "SVMClassifier(0.7, 'rbf', 3,)\n",
        "SVMClassifier(0.7, 'linear')\n",
        "SVMClassifier(0.7, 'poly', 2,)\n",
        "SVMClassifier(0.7, 'sigmoid', 3, 0.2 ) #wrost performance"
      ]
    },
    {
      "cell_type": "markdown",
      "metadata": {},
      "source": [
        "### **split vs accuracy graph**"
      ]
    },
    {
      "cell_type": "code",
      "execution_count": null,
      "metadata": {
        "colab": {
          "base_uri": "https://localhost:8080/",
          "height": 430
        },
        "id": "QRyu5sdJB4_j",
        "outputId": "1635fca0-2f2a-4efb-ae42-70ea27b4368c"
      },
      "outputs": [],
      "source": [
        "x_points = [float(key) for key in dict_svm]\n",
        "y_points = [i*100 for i in dict_svm.values()]\n",
        "plt.plot(x_points, y_points)\n",
        "plt.grid(True)\n",
        "plt.show()"
      ]
    },
    {
      "cell_type": "markdown",
      "metadata": {
        "id": "-ianJJO28Urb"
      },
      "source": [
        "### **MLP Classifier**"
      ]
    },
    {
      "cell_type": "code",
      "execution_count": null,
      "metadata": {
        "id": "eTkHSRCP6qp5"
      },
      "outputs": [],
      "source": [
        "def MLPClassifier(split, hiddenLayerSize = [100, ], activationValue = 'relu', solverValue = 'adam'):\n",
        "  from sklearn.model_selection import train_test_split\n",
        "  from sklearn.neural_network import MLPClassifier\n",
        "  from sklearn.metrics import accuracy_score\n",
        "  from sklearn.preprocessing import StandardScaler\n",
        "  scaler = StandardScaler()\n",
        "  X_train, X_test, y_train, y_test = train_test_split(X,y,test_size = split, random_state=44)\n",
        "  scaler.fit_transform(X_train)\n",
        "  scaler.transform(X_test)\n",
        "  classifier = MLPClassifier(hidden_layer_sizes = hiddenLayerSize, activation = activationValue, solver = solverValue, random_state = 1)\n",
        "  classifier.fit(X_train, y_train)\n",
        "  y_pred = classifier.predict(X_test)\n",
        "  accuracy = accuracy_score(y_test, y_pred)\n",
        "  if(str(split) in dict_mlp):\n",
        "    dict_mlp[str(split)] = max(accuracy, dict_mlp[str(split)])\n",
        "    if(str(split) == '0.3' and accuracy > dict_svm[str(split)]):\n",
        "      RocAucMlp['max'] = {'y_test': y_test, 'y_pred': y_pred}\n",
        "  else:\n",
        "    dict_mlp[str(split)] = accuracy\n",
        "    RocAucMlp['max'] = {'y_test': y_test, 'y_pred': y_pred}\n",
        "  \n",
        "  reports(y_test, y_pred)"
      ]
    },
    {
      "cell_type": "code",
      "execution_count": null,
      "metadata": {
        "colab": {
          "base_uri": "https://localhost:8080/",
          "height": 800
        },
        "id": "0DfYl1Q7-Hpo",
        "outputId": "c397c5c9-ecd9-4aeb-c3d8-75db0df249bd"
      },
      "outputs": [],
      "source": [
        "#Train - Test split 70-30\n",
        "MLPClassifier(0.3, [100, 60,])"
      ]
    },
    {
      "cell_type": "code",
      "execution_count": null,
      "metadata": {
        "colab": {
          "base_uri": "https://localhost:8080/",
          "height": 800
        },
        "id": "9kpwE_II_3Ff",
        "outputId": "93942c18-5732-4a2e-895f-5951a2941f1a"
      },
      "outputs": [],
      "source": [
        "#Train - Test split 60-40\n",
        "MLPClassifier(0.4, [100, 66,])"
      ]
    },
    {
      "cell_type": "code",
      "execution_count": null,
      "metadata": {
        "colab": {
          "base_uri": "https://localhost:8080/",
          "height": 800
        },
        "id": "mkPtvYrI_-i0",
        "outputId": "348aa01f-7edb-4da6-f574-07d8887b204e"
      },
      "outputs": [],
      "source": [
        "#Train - Test split 50-50\n",
        "MLPClassifier(0.5, [150, 32])"
      ]
    },
    {
      "cell_type": "code",
      "execution_count": null,
      "metadata": {
        "colab": {
          "base_uri": "https://localhost:8080/",
          "height": 800
        },
        "id": "P0vxmlmxAB0-",
        "outputId": "533724c6-cc0a-4ae9-87a4-cfadb7428e8c"
      },
      "outputs": [],
      "source": [
        "#Train - Test split 40-60\n",
        "MLPClassifier(0.6, [150, 50])"
      ]
    },
    {
      "cell_type": "code",
      "execution_count": null,
      "metadata": {
        "colab": {
          "base_uri": "https://localhost:8080/",
          "height": 856
        },
        "id": "SaRDFseqARz7",
        "outputId": "efcf20b5-2caf-46b6-8854-4161ddf217bb"
      },
      "outputs": [],
      "source": [
        "#Train - Test split 30-70\n",
        "MLPClassifier(0.7, [100, 80])"
      ]
    },
    {
      "cell_type": "markdown",
      "metadata": {},
      "source": [
        "### **split vs accuracy graph**"
      ]
    },
    {
      "cell_type": "code",
      "execution_count": null,
      "metadata": {
        "colab": {
          "base_uri": "https://localhost:8080/",
          "height": 430
        },
        "id": "4EMRf6wCAXkR",
        "outputId": "ef161b24-c0f4-443c-a001-b03ace8db895"
      },
      "outputs": [],
      "source": [
        "x_points = [float(key) for key in dict_mlp]\n",
        "y_points = [i*100 for i in dict_mlp.values()]\n",
        "plt.plot(x_points, y_points)\n",
        "plt.grid(True)\n",
        "plt.show()"
      ]
    },
    {
      "cell_type": "markdown",
      "metadata": {
        "id": "GgWKbgvzKwg5"
      },
      "source": [
        "### **Random Forest Classifier**"
      ]
    },
    {
      "cell_type": "code",
      "execution_count": null,
      "metadata": {
        "id": "O5eZH7IqK006"
      },
      "outputs": [],
      "source": [
        "def randomForest(split, estimator = 100, criterionValue = 'gini', ):\n",
        "  from sklearn.model_selection import train_test_split\n",
        "  from sklearn.ensemble import RandomForestClassifier\n",
        "  from sklearn.metrics import accuracy_score\n",
        "  from sklearn.preprocessing import StandardScaler\n",
        "  scaler = StandardScaler()\n",
        "  X_train, X_test, y_train, y_test = train_test_split(X,y,test_size = split, random_state=44)\n",
        "  scaler.fit_transform(X_train)\n",
        "  scaler.transform(X_test)\n",
        "  classifier = RandomForestClassifier(n_estimators = estimator, criterion = criterionValue)\n",
        "  classifier.fit(X_train, y_train)\n",
        "  y_pred = classifier.predict(X_test)\n",
        "  accuracy = accuracy_score(y_test, y_pred)\n",
        "\n",
        "  if(str(split) in dict_rfr):\n",
        "    dict_rfr[str(split)] = max(accuracy, dict_rfr[str(split)])\n",
        "    if(str(split) == '0.3' and accuracy > dict_svm[str(split)]):\n",
        "      RocAucRfr['max'] = {'y_test': y_test, 'y_pred': y_pred}\n",
        "  else:\n",
        "    dict_rfr[str(split)] = accuracy\n",
        "    if(str(split) == '0.3'):\n",
        "      RocAucRfr['max'] = {'y_test': y_test, 'y_pred': y_pred}\n",
        "\n",
        "  reports(y_test, y_pred)\n"
      ]
    },
    {
      "cell_type": "code",
      "execution_count": null,
      "metadata": {
        "colab": {
          "base_uri": "https://localhost:8080/",
          "height": 782
        },
        "id": "fqEArsDfLp_z",
        "outputId": "4471d8b2-d9c7-419b-ff0e-067f01c9e59e"
      },
      "outputs": [],
      "source": [
        "randomForest(0.3)"
      ]
    },
    {
      "cell_type": "code",
      "execution_count": null,
      "metadata": {
        "colab": {
          "base_uri": "https://localhost:8080/",
          "height": 782
        },
        "id": "AuoXQMIPLwUP",
        "outputId": "5179fc2b-5d90-4248-dbc9-b3e55b66f393"
      },
      "outputs": [],
      "source": [
        "randomForest(0.4, 100,)"
      ]
    },
    {
      "cell_type": "code",
      "execution_count": null,
      "metadata": {
        "colab": {
          "base_uri": "https://localhost:8080/",
          "height": 782
        },
        "id": "ctjF7CDzLzPd",
        "outputId": "7e435a28-c785-44e9-c195-eb69f512ea8a"
      },
      "outputs": [],
      "source": [
        "randomForest(0.5)"
      ]
    },
    {
      "cell_type": "code",
      "execution_count": null,
      "metadata": {
        "colab": {
          "base_uri": "https://localhost:8080/",
          "height": 782
        },
        "id": "H1aklsWJL1d9",
        "outputId": "68d1b21b-aafc-48b3-9064-dcaff76184de"
      },
      "outputs": [],
      "source": [
        "randomForest(0.6, 100, 'entropy')"
      ]
    },
    {
      "cell_type": "code",
      "execution_count": null,
      "metadata": {
        "colab": {
          "base_uri": "https://localhost:8080/",
          "height": 782
        },
        "id": "5yfFMa-GMJ9r",
        "outputId": "5b3b9dd7-1f2c-4de4-b94f-8167827eb54d"
      },
      "outputs": [],
      "source": [
        "randomForest(0.7, 120)"
      ]
    },
    {
      "cell_type": "markdown",
      "metadata": {},
      "source": [
        "### **split vs accuracy graph**"
      ]
    },
    {
      "cell_type": "code",
      "execution_count": null,
      "metadata": {
        "colab": {
          "base_uri": "https://localhost:8080/",
          "height": 430
        },
        "id": "-MbXuNtcMzyC",
        "outputId": "387380b6-fc73-41e4-f895-3d144702d6ac"
      },
      "outputs": [],
      "source": [
        "x_points = [float(key) for key in dict_rfr]\n",
        "y_points = [i*100 for i in dict_rfr.values()]\n",
        "plt.plot(x_points, y_points)\n",
        "plt.grid(True)\n",
        "plt.show()"
      ]
    },
    {
      "cell_type": "markdown",
      "metadata": {},
      "source": [
        "### **ROC curve and ROC_AUC score for all the classifier having maximum accuracy when train test split 70-30.**"
      ]
    },
    {
      "cell_type": "code",
      "execution_count": null,
      "metadata": {},
      "outputs": [],
      "source": [
        "from sklearn import metrics\n",
        "def auc_roc():\n",
        "    fpr1, tpr1, _1 = metrics.roc_curve(RocAucSvm['max']['y_test'], RocAucSvm['max']['y_pred'], pos_label=1)\n",
        "    fpr2, tpr2, _2 = metrics.roc_curve(RocAucMlp['max']['y_test'], RocAucMlp['max']['y_pred'], pos_label=1)\n",
        "    fpr3, tpr3, _3 = metrics.roc_curve(RocAucRfr['max']['y_test'], RocAucRfr['max']['y_pred'], pos_label=1)\n",
        "    plt.plot(fpr1, tpr1, linestyle='--',color='orange', label='SVM')\n",
        "    plt.plot(fpr2, tpr2, linestyle='--',color='green', label='MLP')\n",
        "    plt.plot(fpr3, tpr3, linestyle='--', color='blue', label= 'Random Forest')\n",
        "    plt.title('ROC curve')\n",
        "    # x label\n",
        "    plt.xlabel('False Positive Rate')\n",
        "    # y label\n",
        "    plt.ylabel('True Positive rate')\n",
        "\n",
        "    plt.legend(loc='best')\n",
        "    plt.savefig('ROC',dpi=300)\n",
        "    plt.show()\n",
        "auc_roc()"
      ]
    }
  ],
  "metadata": {
    "colab": {
      "provenance": []
    },
    "kernelspec": {
      "display_name": "Python 3",
      "name": "python3"
    },
    "language_info": {
      "codemirror_mode": {
        "name": "ipython",
        "version": 3
      },
      "file_extension": ".py",
      "mimetype": "text/x-python",
      "name": "python",
      "nbconvert_exporter": "python",
      "pygments_lexer": "ipython3",
      "version": "3.10.4"
    }
  },
  "nbformat": 4,
  "nbformat_minor": 0
}
